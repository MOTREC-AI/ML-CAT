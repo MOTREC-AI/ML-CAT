{
 "cells": [
  {
   "cell_type": "markdown",
   "id": "b4c3adf6-4e30-4064-a672-1414db777529",
   "metadata": {
    "id": "b4f62b96-3cd6-45cc-bde6-0febe78993e9",
    "tags": []
   },
   "source": [
    "## Main Cohort Metrics and Plots"
   ]
  },
  {
   "cell_type": "code",
   "execution_count": null,
   "id": "3b1d6a3e-09b6-4583-8deb-c9e3687e5c4f",
   "metadata": {
    "id": "3b1d6a3e-09b6-4583-8deb-c9e3687e5c4f",
    "tags": []
   },
   "outputs": [],
   "source": [
    "# !pip install seaborn==0.12.2 lifelines scikit-learn==1.1.3 python-dotenv torchtuples pymongo==3.12.0 scikit-survival pycox seaborn"
   ]
  },
  {
   "cell_type": "code",
   "execution_count": null,
   "id": "5c44dad9-5170-40f3-b524-efbacd66e997",
   "metadata": {
    "id": "23a44b7d-5ca3-418b-9d73-f14dab708847",
    "tags": []
   },
   "outputs": [],
   "source": [
    "import os\n",
    "import random\n",
    "import sys\n",
    "\n",
    "import matplotlib\n",
    "import matplotlib.pyplot as plt\n",
    "import numpy as np\n",
    "import pandas as pd\n",
    "import seaborn as sns\n",
    "import torch\n",
    "from dotenv import load_dotenv\n",
    "from joblib import load\n",
    "from sklearn import metrics\n",
    "import scipy.stats as st\n",
    "from lifelines.utils import concordance_index\n",
    "\n",
    "module_path = os.path.abspath(os.path.join(\"../scripts\"))\n",
    "if module_path not in sys.path:\n",
    "    sys.path.append(module_path)\n",
    "\n",
    "\n",
    "load_dotenv()\n",
    "\n",
    "torch.manual_seed(int(os.getenv(\"RANDOM_SEED\")))\n",
    "torch.backends.cudnn.deterministic = True\n",
    "torch.backends.cudnn.benchmark = False\n",
    "torch.cuda.manual_seed(int(os.getenv(\"RANDOM_SEED\")))\n",
    "random.seed(int(os.getenv(\"RANDOM_SEED\")))\n",
    "np.random.seed(int(os.getenv(\"RANDOM_SEED\")))\n",
    "\n",
    "from run_models import CauseSpecificNet, DeepHit, get_preprocessed_datasets\n",
    "from utils import VTEDataLoader, get_logger, get_parent_dir, plot_roc, plot_calibration, plot_grouped_risks, bootstrap_ci\n",
    "from vte_deephit import get_datasets, get_best_params\n"
   ]
  },
  {
   "cell_type": "code",
   "execution_count": null,
   "id": "7e4901dd-3b91-4da1-872a-038a8665135a",
   "metadata": {
    "id": "1512047a-40df-418c-9095-84f0e75c3c5a",
    "tags": []
   },
   "outputs": [],
   "source": [
    "from matplotlib import cycler\n",
    "\n",
    "color_list = [\n",
    "    \"#E64B35FF\",\n",
    "    \"#4DBBD5FF\",\n",
    "    \"#00A087FF\",\n",
    "    \"#3C5488FF\",\n",
    "    \"#F39B7FFF\",\n",
    "    \"#8491B4FF\",\n",
    "    \"#91D1C2FF\",\n",
    "    \"#DC0000FF\",\n",
    "    \"#7E6148FF\",\n",
    "    \"#B09C85FF\",\n",
    "]\n",
    "matplotlib.rcParams[\"font.family\"] = \"Arial\"\n",
    "matplotlib.rcParams[\"axes.prop_cycle\"] = cycler(color=color_list)\n",
    "plt.rcParams[\"font.size\"] = 18\n",
    "plt.rcParams[\"axes.linewidth\"] = 2"
   ]
  },
  {
   "cell_type": "code",
   "execution_count": null,
   "id": "48ae7ade-3b87-4cbf-94fe-6c59a1b7418b",
   "metadata": {
    "id": "ab243cc3-4b44-4e36-b1e8-c8673b3fc9a7",
    "tags": []
   },
   "outputs": [],
   "source": [
    "logger = get_logger(\"insights-notebook\")"
   ]
  },
  {
   "cell_type": "code",
   "execution_count": null,
   "id": "5e1dc382-b997-4caa-adc1-a0d695690c2f",
   "metadata": {
    "id": "2712a868-dfb6-4347-8290-6bb6a6ac4bd5",
    "tags": []
   },
   "outputs": [],
   "source": [
    "# Get Datasets\n",
    "dl = VTEDataLoader()\n",
    "data = dl.raw_data\n",
    "datasets = get_datasets();"
   ]
  },
  {
   "cell_type": "code",
   "execution_count": null,
   "id": "e6d6949a-b37e-4860-af11-2022501e83d5",
   "metadata": {
    "id": "e6d6949a-b37e-4860-af11-2022501e83d5",
    "tags": []
   },
   "outputs": [],
   "source": [
    "data.OBS_TIME.median()"
   ]
  },
  {
   "cell_type": "code",
   "execution_count": null,
   "id": "7e60aa9c-73f8-48ef-9398-5c5597dde138",
   "metadata": {
    "id": "7e60aa9c-73f8-48ef-9398-5c5597dde138",
    "tags": []
   },
   "outputs": [],
   "source": [
    "data.shape"
   ]
  },
  {
   "cell_type": "code",
   "execution_count": null,
   "id": "630d186f-9a9d-4b79-a8ce-673587356941",
   "metadata": {
    "id": "630d186f-9a9d-4b79-a8ce-673587356941",
    "tags": []
   },
   "outputs": [],
   "source": [
    "data[(data.OBS_TIME<=180) & ((data.EVENT==1) | (data.EVENT==3))].shape"
   ]
  },
  {
   "cell_type": "code",
   "execution_count": null,
   "id": "8c9fec3f-3fd5-40b4-a57f-594f5f09a856",
   "metadata": {
    "id": "8c9fec3f-3fd5-40b4-a57f-594f5f09a856",
    "tags": []
   },
   "outputs": [],
   "source": [
    "print((data.EVENT_6 == 1).sum())\n",
    "(data.EVENT_6 == 1).sum()/len(data)"
   ]
  },
  {
   "cell_type": "code",
   "execution_count": null,
   "id": "6605bb15-33bc-4f88-9d33-d3fd3fe1bd59",
   "metadata": {
    "id": "6605bb15-33bc-4f88-9d33-d3fd3fe1bd59",
    "tags": []
   },
   "outputs": [],
   "source": [
    "data.SEX.value_counts()"
   ]
  },
  {
   "cell_type": "code",
   "execution_count": null,
   "id": "aa96bc38-908e-466b-891f-1819f6087f1d",
   "metadata": {
    "id": "aa96bc38-908e-466b-891f-1819f6087f1d",
    "tags": []
   },
   "outputs": [],
   "source": [
    "# create all datasets\n",
    "\n",
    "x_train = datasets.get(\"x_train\")\n",
    "x_test = datasets.get(\"x_test\")\n",
    "y_train = datasets.get(\"y_train\")\n",
    "y_train_6 = datasets.get(\"y_train_6\")\n",
    "y_test = datasets.get(\"y_test\")\n",
    "x_train_ks = datasets.get(\"x_train_ks\")\n",
    "x_test_ks = datasets.get(\"x_test_ks\")\n",
    "y_test_ks = datasets.get(\"y_test_ks\")\n",
    "labtrans = datasets.get(\"labtrans\")\n",
    "labtrans_6 = datasets.get(\"labtrans_6\")"
   ]
  },
  {
   "cell_type": "code",
   "execution_count": null,
   "id": "fd595e5f-5337-4d57-9932-e12f057ce8a0",
   "metadata": {
    "id": "fd595e5f-5337-4d57-9932-e12f057ce8a0",
    "tags": []
   },
   "outputs": [],
   "source": [
    "x_train.shape"
   ]
  },
  {
   "cell_type": "code",
   "execution_count": null,
   "id": "de2fbaf4-6721-45f0-83a3-03b5efd5cdd6",
   "metadata": {
    "id": "de2fbaf4-6721-45f0-83a3-03b5efd5cdd6",
    "tags": []
   },
   "outputs": [],
   "source": [
    "x_test.shape"
   ]
  },
  {
   "cell_type": "code",
   "execution_count": null,
   "id": "1f9679af-3a05-4d6b-b5ea-3cbe76b6889b",
   "metadata": {
    "id": "1f9679af-3a05-4d6b-b5ea-3cbe76b6889b",
    "tags": []
   },
   "outputs": [],
   "source": [
    "x_test_ks.KS.value_counts()"
   ]
  },
  {
   "cell_type": "code",
   "execution_count": null,
   "id": "66cf0aa1-5e95-4cef-8ce7-b8d01b8b565f",
   "metadata": {
    "id": "66cf0aa1-5e95-4cef-8ce7-b8d01b8b565f",
    "tags": []
   },
   "outputs": [],
   "source": [
    "# Missing Data\n",
    "covars = [\"AGE\", \"SEX\", \"CANCER_TYPE_FINAL\", \"SAMPLE_TYPE\", \"DX_delta\", \"PROC_delta\", \"SODIUM\", \"POTASSIUM\", \"CHLORIDE\", \"CALCIUM\", \"CO2\", \"GLUCOSE\", \"UREA\", \"CREATININE\", \"TPROTEIN\",\n",
    "          \"AST\", \"ALT\", \"TBILI\", \"ALKPHOS\", \"ALBUMIN\", \"HB\", ]\n",
    "100*data[covars].isna().sum()[data[covars].isna().sum()>0]/len(data)"
   ]
  },
  {
   "cell_type": "code",
   "execution_count": null,
   "id": "2578ae68-ab9b-40af-9bb9-c13b584ed0aa",
   "metadata": {
    "id": "2578ae68-ab9b-40af-9bb9-c13b584ed0aa",
    "tags": []
   },
   "outputs": [],
   "source": [
    "x_train.SAMPLE_TYPE.value_counts()"
   ]
  },
  {
   "cell_type": "code",
   "execution_count": null,
   "id": "ca14db09-d62b-487e-ba42-09c871655e34",
   "metadata": {
    "id": "ca14db09-d62b-487e-ba42-09c871655e34",
    "tags": []
   },
   "outputs": [],
   "source": [
    "x_test.SAMPLE_TYPE.value_counts()"
   ]
  },
  {
   "cell_type": "code",
   "execution_count": null,
   "id": "f63517ff-4eb3-4acf-8e5c-165290c46985",
   "metadata": {
    "id": "f63517ff-4eb3-4acf-8e5c-165290c46985",
    "tags": []
   },
   "outputs": [],
   "source": [
    "data.SAMPLE_TYPE.value_counts()"
   ]
  },
  {
   "cell_type": "code",
   "execution_count": null,
   "id": "cd93ce8f-628f-4f34-aa8c-0965e08d24d8",
   "metadata": {
    "id": "cd93ce8f-628f-4f34-aa8c-0965e08d24d8",
    "tags": []
   },
   "outputs": [],
   "source": [
    "x_test_ks.KS.value_counts()"
   ]
  },
  {
   "cell_type": "code",
   "execution_count": null,
   "id": "a1ad2113-6005-45fc-99db-cd23bfaf337a",
   "metadata": {
    "id": "a1ad2113-6005-45fc-99db-cd23bfaf337a",
    "tags": []
   },
   "outputs": [],
   "source": [
    "ks_metrics = x_test_ks[x_test_ks.KS.notna()].copy()\n",
    "print(ks_metrics.shape)\n",
    "ks_metrics[\"OBS_TIME\"] = y_test_ks[0]\n",
    "ks_metrics[\"EVENT\"] = y_test_ks[1]"
   ]
  },
  {
   "cell_type": "code",
   "execution_count": null,
   "id": "76793f18-2bb1-4b61-a1ec-b97e59e64ac9",
   "metadata": {
    "id": "76793f18-2bb1-4b61-a1ec-b97e59e64ac9",
    "tags": []
   },
   "outputs": [],
   "source": [
    "lower_cidx, upper_cidx, mean_cidx, cidxs = bootstrap_ci(ks_metrics, concordance_index, \"EVENT\", \"KS\", \"OBS_TIME\")"
   ]
  },
  {
   "cell_type": "code",
   "execution_count": null,
   "id": "2ac6a655-ce8c-4140-9110-061b26a067f5",
   "metadata": {
    "id": "2ac6a655-ce8c-4140-9110-061b26a067f5",
    "tags": []
   },
   "outputs": [],
   "source": [
    "print(f\"{mean_cidx} ({lower_cidx}, {upper_cidx})\")"
   ]
  },
  {
   "cell_type": "code",
   "execution_count": null,
   "id": "4919936c-13b9-4efc-a558-bd09bde88c41",
   "metadata": {
    "id": "998df724-fed5-44c9-8746-04b2d8f959af",
    "tags": []
   },
   "outputs": [],
   "source": [
    "len(cidxs)\n",
    "\n",
    "sns.displot(cidxs)"
   ]
  },
  {
   "cell_type": "code",
   "execution_count": null,
   "id": "c61017e0-60fd-4b3f-8c9c-a8049fbb54f7",
   "metadata": {
    "id": "c61017e0-60fd-4b3f-8c9c-a8049fbb54f7",
    "tags": []
   },
   "outputs": [],
   "source": [
    "sns.histplot(dl.raw_data[(dl.raw_data.OBS_TIME>0)&(dl.raw_data.EVENT==0)][\"OBS_TIME\"])"
   ]
  },
  {
   "cell_type": "code",
   "execution_count": null,
   "id": "17bf927b-bafd-44d9-b069-93b09918f1aa",
   "metadata": {
    "id": "17bf927b-bafd-44d9-b069-93b09918f1aa",
    "tags": []
   },
   "outputs": [],
   "source": [
    "dl.raw_data.EVENT_6.value_counts()/len(dl.raw_data.EVENT_6)"
   ]
  },
  {
   "cell_type": "code",
   "execution_count": null,
   "id": "4220c845-f5b4-4e52-b1d9-2aa8487c913d",
   "metadata": {
    "id": "d4e4a048-8faa-4cf3-b566-4993982f9763",
    "tags": []
   },
   "outputs": [],
   "source": [
    "dx_to_cohort_entry = (data.REPORT_DTE - data.TM_DX_DTE).dt.days"
   ]
  },
  {
   "cell_type": "code",
   "execution_count": null,
   "id": "91532402-dbae-4848-9d76-b609c1825ace",
   "metadata": {
    "id": "301c7a47-517e-4e60-b42b-9b39eaa6fabd",
    "tags": []
   },
   "outputs": [],
   "source": [
    "dx_to_cohort_entry.describe()"
   ]
  },
  {
   "cell_type": "code",
   "execution_count": null,
   "id": "2faa1647-967b-4de1-8e79-22d453b9f1e0",
   "metadata": {
    "id": "4e2cb975-5ccf-4e8d-839f-cecb823cc9ba",
    "tags": []
   },
   "outputs": [],
   "source": [
    "bins = [\n",
    "    0,\n",
    "    91,\n",
    "    181,\n",
    "    366,\n",
    "    731,\n",
    "    3 * 365 + 1,\n",
    "    4 * 365 + 1,\n",
    "    5 * 365 + 1,\n",
    "    6 * 365 + 1,\n",
    "    7 * 365 + 1,\n",
    "    8 * 365 + 1,\n",
    "    9 * 365 + 1,\n",
    "    10 * 365,\n",
    "]"
   ]
  },
  {
   "cell_type": "code",
   "execution_count": null,
   "id": "2827d69b-3f75-42aa-929d-352b38128e3c",
   "metadata": {
    "id": "0e00ab57-bf76-461d-9c63-a429ae0040f7",
    "tags": []
   },
   "outputs": [],
   "source": [
    "fig = plt.figure(figsize=(10, 10))\n",
    "for i, item in enumerate(bins):\n",
    "    if i == len(bins) - 1:\n",
    "        height = len(dx_to_cohort_entry[(dx_to_cohort_entry > bins[i])])\n",
    "        label = f\">{bins[i] // 365} year\"\n",
    "    else:\n",
    "        height = len(\n",
    "            dx_to_cohort_entry[\n",
    "                (dx_to_cohort_entry > bins[i]) & (dx_to_cohort_entry < bins[i + 1])\n",
    "            ]\n",
    "        )\n",
    "        if bins[i] > 365:\n",
    "            label = f\"{bins[i]//365}-{bins[i+1]//365} year\"\n",
    "        else:\n",
    "            label = f\"{bins[i]}-{bins[i+1]-1}\"\n",
    "    plt.bar(label, height)\n",
    "plt.xticks(rotation=90)\n",
    "plt.xlabel(\"Days to Cohort Entry from Diagnosis\")\n",
    "plt.ylabel(\"Patient Count\")\n",
    "plt.tight_layout()\n",
    "plt.savefig(\n",
    "    get_parent_dir() / \"visualizations/dx-to-cohort-entry.svg\", dpi=300, format=\"svg\"\n",
    ")"
   ]
  },
  {
   "cell_type": "markdown",
   "id": "bdd1fb93-6f44-4a04-80e7-e77d4075bca5",
   "metadata": {
    "id": "a4995334-abfb-49a7-84c6-f05f674f7be7"
   },
   "source": [
    "### Persist test and train data with Audit SEQ"
   ]
  },
  {
   "cell_type": "code",
   "execution_count": null,
   "id": "df302fe6-11b0-408b-a5ae-93b2427aad0d",
   "metadata": {
    "id": "4e558bc3-d762-42c1-bb4a-7ea86d1840b1",
    "tags": []
   },
   "outputs": [],
   "source": [
    "train_seq = pd.DataFrame(\n",
    "    {\n",
    "        \"train\": x_train.AUDIT_SEQ.values,\n",
    "        \"EVENT\": y_train[1],\n",
    "        \"EVENT_6\": y_train_6[1],\n",
    "        \"OBS_TIME\": y_train[0],\n",
    "        \"OBS_TIME_6\": y_train_6[0],\n",
    "    }\n",
    ")"
   ]
  },
  {
   "cell_type": "code",
   "execution_count": null,
   "id": "60aa4bd5-adbd-4641-921b-16930a652a89",
   "metadata": {
    "id": "d942f3f4-f8fe-4d30-a5f7-ad48a0160b4b",
    "tags": []
   },
   "outputs": [],
   "source": [
    "test_seq = pd.DataFrame(\n",
    "    {\n",
    "        \"test\": x_test.AUDIT_SEQ.values,\n",
    "        \"EVENT_6\": y_test[1],\n",
    "        \"OBS_TIME_6\": y_test[0],\n",
    "    }\n",
    ")"
   ]
  },
  {
   "cell_type": "code",
   "execution_count": null,
   "id": "2017d4db-7600-4bfd-876e-0d80b347ee6b",
   "metadata": {
    "id": "2ce30557-e615-4096-8a59-b88e483135f1",
    "tags": []
   },
   "outputs": [],
   "source": [
    "# print(train_seq.head())\n",
    "# print(test_seq.head())\n",
    "\n",
    "# train_seq.to_csv(get_parent_dir() / \"assets/data_asset/train_seq.csv\", index=None)\n",
    "# test_seq.to_csv(get_parent_dir() / \"assets/data_asset/test_seq.csv\", index=None)"
   ]
  },
  {
   "cell_type": "markdown",
   "id": "bb6d45e6-1939-4877-890c-1bbe614afc9b",
   "metadata": {
    "id": "df68db69-fc02-43f5-b0ab-36510eb9094c"
   },
   "source": [
    "## 1. List of genes in the models"
   ]
  },
  {
   "cell_type": "code",
   "execution_count": null,
   "id": "6e09c2b7-f999-4943-841a-6e18dbcf3b14",
   "metadata": {
    "id": "2d88f3d7-2b45-4ee5-a05f-b74e6f624edd",
    "tags": []
   },
   "outputs": [],
   "source": [
    "list(x_train.filter(regex=\"_alt$\").columns)[:5]"
   ]
  },
  {
   "cell_type": "markdown",
   "id": "717927fa-a562-4f88-88aa-08a9d59452fc",
   "metadata": {
    "id": "ed4da1da-2db7-4fc1-8f87-152e77a4da73"
   },
   "source": [
    "## 2. Kaplan Meier for the whole data"
   ]
  },
  {
   "cell_type": "code",
   "execution_count": null,
   "id": "889fc786-81d7-4204-b4fa-5fc143f235e0",
   "metadata": {
    "id": "ec8e7da3-c2d5-4095-818f-f00a6fd3bc13",
    "tags": []
   },
   "outputs": [],
   "source": [
    "from lifelines import KaplanMeierFitter, AalenJohansenFitter\n",
    "from lifelines.plotting import add_at_risk_counts"
   ]
  },
  {
   "cell_type": "code",
   "execution_count": null,
   "id": "71b45e7e-667d-476a-bd6e-6b11046ee46e",
   "metadata": {
    "id": "71b45e7e-667d-476a-bd6e-6b11046ee46e",
    "tags": []
   },
   "outputs": [],
   "source": [
    "def plot_compare_cif(data, event_col, duration_col):\n",
    "    # Create a DataFrame copy for competing risks analysis\n",
    "    data_competing_risks = data.copy()\n",
    "\n",
    "    # Fit Kaplan-Meier estimator\n",
    "    kmf = KaplanMeierFitter()\n",
    "    data_competing_risks[duration_col] = data_competing_risks[duration_col]\n",
    "    kmf.fit_right_censoring(data_competing_risks[duration_col], \n",
    "                            data_competing_risks[event_col]==1, label='Kaplan Meier')\n",
    "\n",
    "    # Fit Cumulative Incidence Function (CIF) with competing risks using Aalen-Johansen estimator\n",
    "    ajf = AalenJohansenFitter()\n",
    "    ajf.fit_right_censoring(data_competing_risks[duration_col].values, \n",
    "                            data_competing_risks[event_col].values, 1, label='Competing Risk')\n",
    "\n",
    "    # Plot the results\n",
    "    fig, ax = plt.subplots(figsize=(16, 12))\n",
    "\n",
    "    kmf.plot_cumulative_density(ax=ax, ci_show=True)\n",
    "    add_at_risk_counts(kmf, labels=['VTE'], ax=ax)\n",
    "    ajf.plot(ax=ax, ci_show=True)\n",
    "\n",
    "    \n",
    "    ax.set_title('Risk Comparison (with and without Competing Risk)')\n",
    "    ax.set_xlabel('Time (in Years)')\n",
    "    ax.set_ylabel('Cumulative Incidence')\n",
    "    ax.legend(loc=\"upper left\")\n",
    "\n",
    "    plt.savefig(get_parent_dir() / \"visualizations/comapre_km_cr.svg\", dpi=300, format=\"svg\", bbox_inches='tight')\n",
    "    return (plt, kmf, ajf) \n"
   ]
  },
  {
   "cell_type": "code",
   "execution_count": null,
   "id": "1fec6169-349f-43ec-9c69-0d39b3bfbd86",
   "metadata": {
    "id": "1fec6169-349f-43ec-9c69-0d39b3bfbd86",
    "tags": []
   },
   "outputs": [],
   "source": [
    "compare_cr_plot, kmfit, ajffit = plot_compare_cif(data, \"EVENT\", \"OBS_TIME\")"
   ]
  },
  {
   "cell_type": "code",
   "execution_count": null,
   "id": "51e41f90-84ae-4e4c-997d-ff4cc486b801",
   "metadata": {
    "id": "51e41f90-84ae-4e4c-997d-ff4cc486b801",
    "tags": []
   },
   "outputs": [],
   "source": [
    "km_6 = kmfit.cumulative_density_at_times(180).values[0]"
   ]
  },
  {
   "cell_type": "code",
   "execution_count": null,
   "id": "48cb4d9f-16c5-46c0-bfb8-f155aaac36b3",
   "metadata": {
    "id": "48cb4d9f-16c5-46c0-bfb8-f155aaac36b3",
    "tags": []
   },
   "outputs": [],
   "source": [
    "km_end = kmfit.cumulative_density_at_times(1064).values[0]"
   ]
  },
  {
   "cell_type": "code",
   "execution_count": null,
   "id": "1628eac0-91ce-4d08-9024-828e033aac6c",
   "metadata": {
    "id": "1628eac0-91ce-4d08-9024-828e033aac6c",
    "tags": []
   },
   "outputs": [],
   "source": [
    "ajffit.cumulative_density_.loc[180.0].values[0]"
   ]
  },
  {
   "cell_type": "code",
   "execution_count": null,
   "id": "5a5c7f80-da23-4f65-b22a-9ecb721c5506",
   "metadata": {
    "id": "5a5c7f80-da23-4f65-b22a-9ecb721c5506",
    "tags": []
   },
   "outputs": [],
   "source": [
    "ajf_6 = ajffit.cumulative_density_.loc[180.0].values[0]"
   ]
  },
  {
   "cell_type": "code",
   "execution_count": null,
   "id": "a6571304-5ace-44eb-a40e-ca5f08cb2b16",
   "metadata": {
    "id": "a6571304-5ace-44eb-a40e-ca5f08cb2b16",
    "tags": []
   },
   "outputs": [],
   "source": [
    "ajf_end = ajffit.cumulative_density_.loc[1064.0].values[0]"
   ]
  },
  {
   "cell_type": "code",
   "execution_count": null,
   "id": "318d3df9-c970-4eb9-8580-38ccd4e95026",
   "metadata": {
    "id": "318d3df9-c970-4eb9-8580-38ccd4e95026",
    "tags": []
   },
   "outputs": [],
   "source": [
    "estimates = pd.DataFrame({\"6 Months\": [km_6, ajf_6], \"End of Study\": [km_end, ajf_end]}, index=[\"KM\", \"CR\"])"
   ]
  },
  {
   "cell_type": "code",
   "execution_count": null,
   "id": "de871619-f7a6-4832-8b75-b2bc1a4047e3",
   "metadata": {
    "id": "de871619-f7a6-4832-8b75-b2bc1a4047e3",
    "tags": []
   },
   "outputs": [],
   "source": [
    "# get KM and AJ estimates\n",
    "(estimates*100).round(1)"
   ]
  },
  {
   "cell_type": "code",
   "execution_count": null,
   "id": "1f701581-0eea-4e4b-92f7-f5c4ea9d3627",
   "metadata": {
    "id": "1f701581-0eea-4e4b-92f7-f5c4ea9d3627",
    "tags": []
   },
   "outputs": [],
   "source": [
    "estimates.to_csv(get_parent_dir() / \"results/estimates_main.csv\")"
   ]
  },
  {
   "cell_type": "code",
   "execution_count": null,
   "id": "17544940-095a-4502-9b35-1007f0fe94a8",
   "metadata": {
    "id": "64d968e8-7221-43a7-9084-61ca34a8509c",
    "tags": []
   },
   "outputs": [],
   "source": [
    "feature = \"no_genes\""
   ]
  },
  {
   "cell_type": "code",
   "execution_count": null,
   "id": "5300dc41-8312-4456-916b-bca743f3c5f1",
   "metadata": {
    "id": "a1e6d203-b9f2-4b71-89fd-c182e1add352",
    "tags": []
   },
   "outputs": [],
   "source": [
    "n = 30\n",
    "(\n",
    "    feature_train,\n",
    "    feature_test,\n",
    "    feature_train_ks,\n",
    "    feature_test_ks,\n",
    ") = get_preprocessed_datasets(feature, x_train, x_test, x_train_ks, x_test_ks)\n",
    "\n",
    "logger.info(f\"Running for feature: {feature}\")\n",
    "params = load(get_parent_dir() / f\"models/{feature}/params.pkl\")\n",
    "models = []\n",
    "for i in range(n):\n",
    "    net = CauseSpecificNet(**params)\n",
    "    m = DeepHit(net)\n",
    "    m.load_model_weights(get_parent_dir() / f\"models/{feature}/model_{i}.pt\")\n",
    "    models.append(m)"
   ]
  },
  {
   "cell_type": "code",
   "execution_count": null,
   "id": "19d8a9bc-657f-4ec1-8cbc-95cca2820e93",
   "metadata": {
    "id": "19d8a9bc-657f-4ec1-8cbc-95cca2820e93",
    "tags": []
   },
   "outputs": [],
   "source": [
    "models[0].net"
   ]
  },
  {
   "cell_type": "markdown",
   "id": "830dcbc1-f3db-4df3-8764-67d1b3acfef8",
   "metadata": {
    "id": "9a841887-bf57-47ac-9dfc-22592d7c0284"
   },
   "source": [
    "## 3. CIF for the whole cohort using DH model"
   ]
  },
  {
   "cell_type": "code",
   "execution_count": null,
   "id": "647a7f00-c474-4663-ac10-b4e5d6641e53",
   "metadata": {
    "id": "8cd40459-05d1-491d-b4bd-7eda13186241",
    "tags": []
   },
   "outputs": [],
   "source": [
    "full_feature = np.vstack([feature_train, feature_test])"
   ]
  },
  {
   "cell_type": "code",
   "execution_count": null,
   "id": "9e3876ea-898b-4360-9971-33c2d416610b",
   "metadata": {
    "id": "81029688-4d3b-4271-8722-cca600e47f0c",
    "tags": []
   },
   "outputs": [],
   "source": [
    "full_feature.shape"
   ]
  },
  {
   "cell_type": "code",
   "execution_count": null,
   "id": "51f51824-c8fd-457c-953b-de5d180bb177",
   "metadata": {
    "id": "5d1d55c6-0d98-473c-8224-c870d3769ae5",
    "tags": []
   },
   "outputs": [],
   "source": [
    "cifs = []\n",
    "for sm in models:\n",
    "    cifs.append(sm.predict_cif(full_feature))\n",
    "\n",
    "cif = np.mean(cifs, axis=0, dtype=np.float32) * 100"
   ]
  },
  {
   "cell_type": "code",
   "execution_count": null,
   "id": "5565d2a5-2201-4fbf-b62d-dd7f4a703c4c",
   "metadata": {
    "id": "3a5a0b91-6445-410a-9e05-5862c590470e",
    "tags": []
   },
   "outputs": [],
   "source": [
    "cif.shape"
   ]
  },
  {
   "cell_type": "code",
   "execution_count": null,
   "id": "a05d518b-21d4-4869-836e-2c70fc8edd87",
   "metadata": {
    "id": "96bcdca6-a738-4ad4-bc70-06e7954ce05f",
    "tags": []
   },
   "outputs": [],
   "source": [
    "cif1 = pd.DataFrame(cif[0], models[0].duration_index)"
   ]
  },
  {
   "cell_type": "code",
   "execution_count": null,
   "id": "0eac82f2-8229-44f3-a652-ae9d1041b379",
   "metadata": {
    "id": "e3c6fdab-ce93-4b76-a1ef-71efc4af7823",
    "tags": []
   },
   "outputs": [],
   "source": [
    "vte_cif = cif[0]"
   ]
  },
  {
   "cell_type": "code",
   "execution_count": null,
   "id": "4c26598b-0fb1-463b-b109-228bd6c4a51f",
   "metadata": {
    "id": "4c26598b-0fb1-463b-b109-228bd6c4a51f",
    "tags": []
   },
   "outputs": [],
   "source": [
    "vte_cif.shape"
   ]
  },
  {
   "cell_type": "code",
   "execution_count": null,
   "id": "d044183d-73bf-4365-aa99-0d384ac6f412",
   "metadata": {
    "id": "33650b71-c55a-4fb3-97e4-6b3523c0fa96",
    "tags": []
   },
   "outputs": [],
   "source": [
    "m_test = (100 - vte_cif[180, :]).mean()\n",
    "std_test = (100 - vte_cif[180, :]).std()"
   ]
  },
  {
   "cell_type": "code",
   "execution_count": null,
   "id": "44bb5e60-8851-4f3d-bb65-25f5040ac065",
   "metadata": {
    "id": "262301ff-5e2b-46c3-9144-95036caf597b",
    "tags": []
   },
   "outputs": [],
   "source": [
    "print(m_test)\n",
    "print(std_test)"
   ]
  },
  {
   "cell_type": "code",
   "execution_count": null,
   "id": "437bac4a-2d02-4f59-8f4d-60f9ff70f6af",
   "metadata": {
    "id": "f4c76229-dccc-435f-be07-0ea042e69118",
    "tags": []
   },
   "outputs": [],
   "source": [
    "m_test"
   ]
  },
  {
   "cell_type": "code",
   "execution_count": null,
   "id": "10116b5e-89be-42b0-959a-04e95d78d4c1",
   "metadata": {
    "id": "eaef18a5-0e9b-42ae-b062-e52d2ccb3758",
    "tags": []
   },
   "outputs": [],
   "source": [
    "std_test"
   ]
  },
  {
   "cell_type": "markdown",
   "id": "ccca9d12-7b84-4e52-882c-1a13d25bf5ab",
   "metadata": {
    "id": "02e4c650-c81f-4782-b8f2-e4b899065c51"
   },
   "source": [
    "## 4. RoC plot for 6 months on test set"
   ]
  },
  {
   "cell_type": "code",
   "execution_count": null,
   "id": "bc2b5b05-ab33-4eb3-ae72-9045e7698a70",
   "metadata": {
    "id": "118f03f9-74a6-412c-8a79-8292a2ebeb87",
    "tags": []
   },
   "outputs": [],
   "source": [
    "cifs = []\n",
    "for sm in models:\n",
    "    cifs.append(sm.predict_cif(feature_test))\n",
    "\n",
    "cif = np.mean(cifs, dtype=np.float32, axis=0)"
   ]
  },
  {
   "cell_type": "code",
   "execution_count": null,
   "id": "9b12f202-ac3d-4fc2-bf59-59d88454ca42",
   "metadata": {
    "id": "4c6f4c73-d917-4d64-ad59-d80c5e88169c",
    "tags": []
   },
   "outputs": [],
   "source": [
    "fig = plt.figure(figsize=(10, 10))\n",
    "plt.hist(cif[0][180, :], density=True, bins=100)\n",
    "plt.title(\"Distribution of CIF for VTE\")\n",
    "plt.savefig(get_parent_dir() / \"visualizations/cif_density.svg\", dpi=300, format=\"svg\")"
   ]
  },
  {
   "cell_type": "code",
   "execution_count": null,
   "id": "61b8fbbe-f04d-4c64-8e53-9840e926757a",
   "metadata": {
    "id": "cdea626c-98f5-44ad-a711-2b6c3ae33a0a",
    "tags": []
   },
   "outputs": [],
   "source": [
    "from sklearn.metrics import roc_auc_score\n",
    "\n",
    "fpr, tpr, _ = metrics.roc_curve(y_test[1] == 1, cif[0][180, :])\n",
    "auc = roc_auc_score(y_test[1] == 1, cif[0][180, :])\n",
    "\n",
    "y_test_df = pd.DataFrame({\"OBS_TIME\": y_test[0], \"EVENT\": y_test[1], \"cif\": cif[0][180, :]})\n",
    "low, high, mean_auc, idxs = bootstrap_ci(y_test_df, roc_auc_score, \"EVENT\", \"cif\")\n",
    "# create ROC curve\n",
    "fig = plt.figure(figsize=(10, 10))\n",
    "plt.plot(\n",
    "    fpr, tpr, linestyle=\"--\", lw=2, label=\"ROC curve\", clip_on=False,\n",
    ")\n",
    "plt.plot([0, 1], [0, 1], linestyle=\"--\")\n",
    "plt.ylabel(\"True Positive Rate\")\n",
    "plt.xlabel(\"False Positive Rate\")\n",
    "print(auc)\n",
    "plt.title(\"%s, AUC = %.2f (%.2f, %.2f)\" % (\"RoC Curve DH Model at 180 days\", mean_auc, low, high))\n",
    "plt.savefig(get_parent_dir() / \"visualizations/deephit_auc.svg\", dpi=300, format=\"svg\")"
   ]
  },
  {
   "cell_type": "code",
   "execution_count": null,
   "id": "980b31ce-99d6-4d44-99b0-41791ff8f45c",
   "metadata": {
    "id": "46e72010-7418-4ddc-b93f-74414c844485",
    "tags": []
   },
   "outputs": [],
   "source": [
    "cifs_ks = []\n",
    "for sm in models:\n",
    "    cifs_ks.append(sm.predict_cif(feature_test_ks))\n",
    "\n",
    "cif_ks = np.mean(cifs_ks, dtype=np.float32, axis=0)"
   ]
  },
  {
   "cell_type": "markdown",
   "id": "076628b4-a48c-494d-b729-c010e364327d",
   "metadata": {
    "id": "793885ac-9538-4e94-9512-ec197000fc3c"
   },
   "source": [
    "# 5. DH results for patients with diagnosis time under a year"
   ]
  },
  {
   "cell_type": "code",
   "execution_count": null,
   "id": "f7a51db8-ca77-490e-a7d4-e638536946dd",
   "metadata": {
    "id": "90a064ae-33f2-4cdc-896f-28d143271ed6",
    "tags": []
   },
   "outputs": [],
   "source": [
    "feature_test_dx_365 = feature_test[x_test[\"DX_delta\"] <= 365]"
   ]
  },
  {
   "cell_type": "code",
   "execution_count": null,
   "id": "1c4e4a9f-cfaf-454b-8092-2c04066903cc",
   "metadata": {
    "id": "f74a629d-4481-4449-b7c6-2c41507db3f2",
    "tags": []
   },
   "outputs": [],
   "source": [
    "from vte_deephit import c_stat\n",
    "\n",
    "cifs_dx_365 = []\n",
    "for sm in models:\n",
    "    cifs_dx_365.append(sm.predict_cif(feature_test_dx_365))\n",
    "\n",
    "cif_test_dx_365 = np.mean(cifs_dx_365, dtype=np.float32, axis=0)\n",
    "\n",
    "y_test_0 = y_test[0][x_test[\"DX_delta\"] <= 365]\n",
    "y_test_1 = y_test[1][x_test[\"DX_delta\"] <= 365]\n",
    "\n",
    "c_stat(\n",
    "    cif_test_dx_365, y_test_0, y_test_1, models[0].duration_index, suffix=\"dx_365\",\n",
    ")"
   ]
  },
  {
   "cell_type": "markdown",
   "id": "f0b20946-9d1e-44e1-807d-69e3e8ae9087",
   "metadata": {
    "id": "14cd7bf7-893e-409e-8073-a0ebb7512149"
   },
   "source": [
    "## 6. KS RoC"
   ]
  },
  {
   "cell_type": "code",
   "execution_count": null,
   "id": "11329024-a792-4fc9-83eb-4c5443ecd0b2",
   "metadata": {
    "id": "e55478c8-0651-4359-b9af-c2502e861ab7",
    "tags": []
   },
   "outputs": [],
   "source": [
    "ks_patients = data[data.KS.notna() & (data.OBS_TIME_6_ks > 0)]"
   ]
  },
  {
   "cell_type": "code",
   "execution_count": null,
   "id": "3a984e7b-2f59-47e9-bfc4-dbea39ce9f6e",
   "metadata": {
    "id": "c6f815af-fa63-403e-a968-bf120e3aa797",
    "tags": []
   },
   "outputs": [],
   "source": [
    "plot_roc(\n",
    "    ks_patients,\n",
    "    \"KS\",\n",
    "    \"EVENT_6_ks\",\n",
    "    f\"ROC curve (Khorana Score Patients\\n(n={ks_patients.shape[0]})\",\n",
    "    \"KS_AUC\",\n",
    ")"
   ]
  },
  {
   "cell_type": "code",
   "execution_count": null,
   "id": "ef07b53b-0f5d-4caf-8916-fb191b789820",
   "metadata": {
    "id": "c68dd2de-7728-490c-9b2c-c64307ff79cf",
    "tags": []
   },
   "outputs": [],
   "source": [
    "# test set event KS\n",
    "test_audit_seq = pd.read_csv(get_parent_dir() / \"assets/data_asset/test_seq.csv\")\n",
    "test_KS = data.merge(test_audit_seq[\"test\"], left_on=\"AUDIT_SEQ\", right_on=\"test\")\n",
    "test_KS = test_KS[test_KS.KS.notna() & test_KS.OBS_TIME_6_ks > 0]"
   ]
  },
  {
   "cell_type": "code",
   "execution_count": null,
   "id": "514ed729-3733-4546-a6e5-a942fc344595",
   "metadata": {
    "id": "64ce74cc-45db-43b1-a1fb-293aa0bc2775",
    "tags": []
   },
   "outputs": [],
   "source": [
    "train_audit_seq = pd.read_csv(get_parent_dir() / \"assets/data_asset/train_seq.csv\")\n",
    "train_KS = data.merge(train_audit_seq[\"train\"], left_on=\"AUDIT_SEQ\", right_on=\"train\")\n",
    "train_KS = train_KS[train_KS.KS.notna() & train_KS.OBS_TIME_6_ks > 0]"
   ]
  },
  {
   "cell_type": "code",
   "execution_count": null,
   "id": "af44251e-faaa-4155-b07d-075fe526ec94",
   "metadata": {
    "id": "1aa4fb37-a2e5-496c-b41d-c220ed5b037c",
    "tags": []
   },
   "outputs": [],
   "source": [
    "plot_roc(\n",
    "    test_KS,\n",
    "    \"KS\",\n",
    "    \"EVENT_6_ks\",\n",
    "    f\"ROC curve (Khorana Score Patients)\\nTest (n={test_KS.shape[0]})\",\n",
    "    \"KS_AUC_TEST\",\n",
    ")"
   ]
  },
  {
   "cell_type": "code",
   "execution_count": null,
   "id": "fa748aa4-81e0-4b21-9eb3-401f2f9e3235",
   "metadata": {
    "id": "5150f523-02e4-4385-a219-668c18901123",
    "tags": []
   },
   "outputs": [],
   "source": [
    "plot_roc(\n",
    "    train_KS,\n",
    "    \"KS\",\n",
    "    \"EVENT_6_ks\",\n",
    "    f\"ROC curve (Khorana Score Patients)\\nTrain (n={train_KS.shape[0]})\",\n",
    "    \"KS_AUC_TRAIN\",\n",
    ")"
   ]
  },
  {
   "cell_type": "markdown",
   "id": "dbdabd20-209e-4cff-909e-630227420b70",
   "metadata": {
    "id": "06554d01-7c22-4c08-b102-d99a5631fa02"
   },
   "source": [
    "## 7. Calibration Plot"
   ]
  },
  {
   "cell_type": "code",
   "execution_count": null,
   "id": "61526710-aab1-4954-94d6-4d0fdf691230",
   "metadata": {
    "id": "751154c7-19b3-41f0-9783-797c6ceef905",
    "tags": []
   },
   "outputs": [],
   "source": [
    "from joblib import load\n",
    "from pycox.models import DeepHit\n",
    "from run_models import get_preprocessed_datasets\n",
    "from utils import get_logger\n",
    "from vte_deephit import CauseSpecificNet\n",
    "\n",
    "logger = get_logger(\"insights_notebook\")"
   ]
  },
  {
   "cell_type": "code",
   "execution_count": null,
   "id": "302e6c1b-5a96-4cda-a28d-50a5e2cbff12",
   "metadata": {
    "id": "33f4cbaf-86e7-4dfa-95bb-ebe2dde289ae",
    "tags": []
   },
   "outputs": [],
   "source": [
    "from sklearn.calibration import calibration_curve\n",
    "\n",
    "feature = \"no_genes\"\n",
    "bins = 5\n",
    "\n",
    "n = 30\n",
    "(feature_train, feature_test) = get_preprocessed_datasets(feature, x_train, x_test)\n",
    "\n",
    "logger.info(f\"Running for feature: {feature}\")\n",
    "params = load(get_parent_dir() / f\"models/{feature}/params.pkl\")\n",
    "models = []\n",
    "for i in range(n):\n",
    "    net = CauseSpecificNet(**params)\n",
    "    m = DeepHit(net)\n",
    "    m.load_model_weights(get_parent_dir() / f\"models/{feature}/model_{i}.pt\")\n",
    "    models.append(m)\n",
    "\n",
    "cifs = []\n",
    "for sm in models:\n",
    "    cifs.append(sm.predict_cif(feature_test))\n",
    "\n",
    "cif = np.mean(cifs, dtype=np.float32, axis=0)\n",
    "vte_cif = cif[0][180, :]"
   ]
  },
  {
   "cell_type": "code",
   "execution_count": null,
   "id": "00c0fed4-6f4f-4b35-ba50-c6347daf43fb",
   "metadata": {
    "id": "91456e90-e362-4f93-b68a-7d0b4ef27af6",
    "tags": []
   },
   "outputs": [],
   "source": [
    "a, b = calibration_curve(y_test[1] == 1, vte_cif, pos_label=1, strategy=\"quantile\")"
   ]
  },
  {
   "cell_type": "code",
   "execution_count": null,
   "id": "7043afec-2ae6-44d8-b20c-7f534370ab1a",
   "metadata": {
    "id": "56c194bf-d53e-4dc7-b747-5bf9b0bb3e0c",
    "tags": []
   },
   "outputs": [],
   "source": [
    "import matplotlib.lines as mlines\n",
    "import matplotlib.transforms as mtransforms\n",
    "\n",
    "fig, ax = plt.subplots(figsize=(10, 10))\n",
    "# only these two lines are calibration curves\n",
    "plt.plot(a, b, marker=\"o\", linewidth=1, label=\"DeepHit\")\n",
    "\n",
    "# reference line, legends, and axis labels\n",
    "line = mlines.Line2D([0, 1], [0, 1], color=\"black\")\n",
    "transform = ax.transAxes\n",
    "line.set_transform(transform)\n",
    "ax.add_line(line)\n",
    "plt.title(\"Calibration plot for VTE data\")\n",
    "ax.set_xlabel(\"Predicted probability\")\n",
    "ax.set_ylabel(\"True probability in each bin\")\n",
    "plt.legend()\n",
    "# plt.show()\n",
    "plt.savefig(\n",
    "    get_parent_dir() / \"visualizations/calibration_vte_probabilities.svg\",\n",
    "    dpi=300,\n",
    "    format=\"svg\",\n",
    ")"
   ]
  },
  {
   "cell_type": "code",
   "execution_count": null,
   "id": "5c7c1e35-e3db-419b-bb33-8434d32bf469",
   "metadata": {
    "id": "5c7c1e35-e3db-419b-bb33-8434d32bf469",
    "tags": []
   },
   "outputs": [],
   "source": [
    "plot_grouped_risks(cif,\n",
    "                   y_test[0],\n",
    "                   y_test[1],\n",
    "                   name=\"Main Cohort Validation Set\",\n",
    "                   event_of_interest=1,\n",
    "                   save=True)"
   ]
  },
  {
   "cell_type": "code",
   "execution_count": null,
   "id": "c3a0f211-c3a1-46ce-8cb2-f1f111099f6b",
   "metadata": {
    "id": "c3a0f211-c3a1-46ce-8cb2-f1f111099f6b",
    "tags": []
   },
   "outputs": [],
   "source": [
    "plot_calibration(vte_cif,\n",
    "                 events=y_test[1], durations=y_test[0],\n",
    "                 # bins=[0, 2, 4, 6, 8, 100],\n",
    "                 save=True,\n",
    "                 name=\"Validation Set\",\n",
    "                 feature=\"LIMITED\")"
   ]
  },
  {
   "cell_type": "code",
   "execution_count": null,
   "id": "a990893d-3cc8-46e3-84d8-d0f662ac37ed",
   "metadata": {
    "id": "a990893d-3cc8-46e3-84d8-d0f662ac37ed",
    "tags": []
   },
   "outputs": [],
   "source": [
    "from sklearn.calibration import calibration_curve\n",
    "\n",
    "feature = \"ext\"\n",
    "n = 30\n",
    "(feature_train, feature_test) = get_preprocessed_datasets(feature, x_train, x_test);\n",
    "\n",
    "logger.info(f\"Running for feature: {feature}\")\n",
    "params = load(get_parent_dir() / f\"models/{feature}/params.pkl\")\n",
    "models = []\n",
    "for i in range(n):\n",
    "    net = CauseSpecificNet(**params)\n",
    "    m = DeepHit(net)\n",
    "    m.load_model_weights(get_parent_dir() / f\"models/{feature}/model_{i}.pt\")\n",
    "    models.append(m)\n",
    "\n",
    "cifs = []\n",
    "for sm in models:\n",
    "    cifs.append(sm.predict_cif(feature_test))\n",
    "\n",
    "cif = np.mean(cifs, dtype=np.float32, axis=0)\n",
    "vte_cif_ext = cif[0][180, :];"
   ]
  },
  {
   "cell_type": "code",
   "execution_count": null,
   "id": "7c59c008-852c-40f7-ab36-160dd19b1a45",
   "metadata": {
    "id": "27a164a8-4dcb-4fad-9669-f4fbd2a734e6",
    "tags": []
   },
   "outputs": [],
   "source": [
    "plot_calibration(vte_cif_ext,\n",
    "                 events=y_test[1],\n",
    "                 durations=y_test[0], \n",
    "                 feature=\"EXTENSIVE\", \n",
    "                 # bins=[0, 2, 4, 6, 8, 100],\n",
    "                 save=True,\n",
    "                 name=\"Validation Set\")"
   ]
  },
  {
   "cell_type": "code",
   "execution_count": null,
   "id": "ad4f54d0-aae1-4de8-a0d9-fa9a030d8fbf",
   "metadata": {
    "id": "ad4f54d0-aae1-4de8-a0d9-fa9a030d8fbf"
   },
   "outputs": [],
   "source": []
  }
 ],
 "metadata": {
  "kernelspec": {
   "display_name": "Python 3.9 + GPU",
   "language": "python",
   "name": "python3"
  },
  "language_info": {
   "codemirror_mode": {
    "name": "ipython",
    "version": 3
   },
   "file_extension": ".py",
   "mimetype": "text/x-python",
   "name": "python",
   "nbconvert_exporter": "python",
   "pygments_lexer": "ipython3",
   "version": "3.9.12"
  },
  "vscode": {
   "interpreter": {
    "hash": "4e9059d207651285723712bc3179927a0ca9672cc7b9e153909fbf37e2e2c7cf"
   }
  }
 },
 "nbformat": 4,
 "nbformat_minor": 5
}
