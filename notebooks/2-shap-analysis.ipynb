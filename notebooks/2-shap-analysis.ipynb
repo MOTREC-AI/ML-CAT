{
 "cells": [
  {
   "cell_type": "code",
   "execution_count": null,
   "id": "9e5a57d7-29ce-4dd6-9100-e78e172a70ae",
   "metadata": {
    "id": "c4fa84ca-765c-4b1e-aedf-9813c7686f81",
    "tags": []
   },
   "outputs": [],
   "source": [
    "# !pip install shap"
   ]
  },
  {
   "cell_type": "code",
   "execution_count": null,
   "id": "db066663-a46f-4851-ad77-a57e2d8b86c5",
   "metadata": {
    "id": "db066663-a46f-4851-ad77-a57e2d8b86c5",
    "tags": []
   },
   "outputs": [],
   "source": [
    "import os\n",
    "import random\n",
    "import sys\n",
    "\n",
    "import matplotlib\n",
    "import matplotlib.pyplot as plt\n",
    "import numpy as np\n",
    "import pandas as pd\n",
    "import seaborn as sns\n",
    "import torch\n",
    "from dotenv import load_dotenv\n",
    "from joblib import load\n",
    "from sklearn import metrics\n",
    "import scipy.stats as st\n",
    "\n",
    "module_path = os.path.abspath(os.path.join(\"../scripts\"))\n",
    "if module_path not in sys.path:\n",
    "    sys.path.append(module_path)\n",
    "\n",
    "import shap\n",
    "shap.initjs()\n",
    "\n",
    "load_dotenv()\n",
    "\n",
    "# torch.manual_seed(int(os.getenv(\"RANDOM_SEED\")))\n",
    "# torch.backends.cudnn.deterministic = True\n",
    "# torch.backends.cudnn.benchmark = False\n",
    "# torch.cuda.manual_seed(int(os.getenv(\"RANDOM_SEED\")))\n",
    "# random.seed(int(os.getenv(\"RANDOM_SEED\")))\n",
    "# np.random.seed(int(os.getenv(\"RANDOM_SEED\")))\n",
    "\n",
    "from run_models import CauseSpecificNet, DeepHit, get_preprocessed_datasets\n",
    "from utils import VTEDataLoader, get_logger, get_parent_dir, plot_roc, plot_calibration\n",
    "from vte_deephit import get_datasets, get_best_params"
   ]
  },
  {
   "cell_type": "code",
   "execution_count": null,
   "id": "1858fa34-2a3b-4ae1-95c5-8827fe3a248b",
   "metadata": {
    "id": "1858fa34-2a3b-4ae1-95c5-8827fe3a248b",
    "tags": []
   },
   "outputs": [],
   "source": [
    "import matplotlib\n",
    "import matplotlib.pyplot as plt\n",
    "from matplotlib import cycler\n",
    "\n",
    "color_list = [\n",
    "    \"#E64B35FF\",\n",
    "    \"#4DBBD5FF\",\n",
    "    \"#00A087FF\",\n",
    "    \"#3C5488FF\",\n",
    "    \"#F39B7FFF\",\n",
    "    \"#8491B4FF\",\n",
    "    \"#91D1C2FF\",\n",
    "    \"#DC0000FF\",\n",
    "    \"#7E6148FF\",\n",
    "    \"#B09C85FF\",\n",
    "]\n",
    "matplotlib.rcParams[\"font.family\"] = \"Arial\"\n",
    "matplotlib.rcParams[\"axes.prop_cycle\"] = cycler(color=color_list)\n",
    "plt.rcParams[\"font.size\"] = 18\n",
    "plt.rcParams[\"axes.linewidth\"] = 2"
   ]
  },
  {
   "cell_type": "code",
   "execution_count": null,
   "id": "4d91d4ce-1a9a-4c2e-8722-751a290533d9",
   "metadata": {
    "id": "4d91d4ce-1a9a-4c2e-8722-751a290533d9",
    "tags": []
   },
   "outputs": [],
   "source": [
    "logger = get_logger(\"shap-notebook\")"
   ]
  },
  {
   "cell_type": "code",
   "execution_count": null,
   "id": "52cc5b77-27f6-43f0-9956-9d7ab3e27997",
   "metadata": {
    "id": "52cc5b77-27f6-43f0-9956-9d7ab3e27997",
    "tags": []
   },
   "outputs": [],
   "source": [
    "datasets = get_datasets();"
   ]
  },
  {
   "cell_type": "code",
   "execution_count": null,
   "id": "6f33e677-d756-4c9f-b485-350648965f94",
   "metadata": {
    "id": "6f33e677-d756-4c9f-b485-350648965f94",
    "tags": []
   },
   "outputs": [],
   "source": [
    "x_train = datasets.get(\"x_train\")\n",
    "x_test = datasets.get(\"x_test\")\n",
    "y_train = datasets.get(\"y_train\")\n",
    "y_train_6 = datasets.get(\"y_train_6\")\n",
    "y_test = datasets.get(\"y_test\")\n",
    "x_train_ks = datasets.get(\"x_train_ks\")\n",
    "x_test_ks = datasets.get(\"x_test_ks\")\n",
    "y_test_ks = datasets.get(\"y_test_ks\")\n",
    "labtrans = datasets.get(\"labtrans\")\n",
    "labtrans_6 = datasets.get(\"labtrans_6\")"
   ]
  },
  {
   "cell_type": "code",
   "execution_count": null,
   "id": "a487974a-94b5-4773-926c-8a54a6f54901",
   "metadata": {
    "id": "a487974a-94b5-4773-926c-8a54a6f54901",
    "tags": []
   },
   "outputs": [],
   "source": [
    "feature = \"no_genes\"\n",
    "n = 30\n",
    "\n",
    "\n",
    "logger.info(f\"Running for feature: {feature}\")\n",
    "params = load(get_parent_dir() / f\"models/{feature}/params.pkl\")\n",
    "models = []\n",
    "for i in range(n):\n",
    "    net = CauseSpecificNet(**params)\n",
    "    m = DeepHit(net)\n",
    "    m.load_model_weights(get_parent_dir() / f\"models/{feature}/model_{i}.pt\")\n",
    "    models.append(m)\n",
    "\n"
   ]
  },
  {
   "cell_type": "code",
   "execution_count": null,
   "id": "96b80442-4d58-41b1-885e-2f951031e12d",
   "metadata": {
    "id": "96b80442-4d58-41b1-885e-2f951031e12d",
    "tags": []
   },
   "outputs": [],
   "source": [
    "# refit original model on new data\n",
    "transformation_pipeline = load(get_parent_dir() / f\"models/{feature}/preprocessing_fit.joblib\")\n",
    "features_train = transformation_pipeline.fit_transform(x_train).astype(\"float32\");\n",
    "features_test = transformation_pipeline.transform(x_test).astype(\"float32\");\n",
    "# cols = [\"AGE\", \"ALBUMIN\", \"ALKPHOS\", \"ALT\", \"AST\", \"CALCIUM\", \"CHEMO_alkylating\",\n",
    "#         \"CHEMO_antibiotic\", \"CHEMO_antimetabolite\", \"CHEMO_antimitotic\", \"CHEMO_cdki\",\n",
    "#         \"CHEMO_egfri\", \"CHEMO_immune\", \"CHEMO_multikinase\", \"CHEMO_other\", \"CHEMO_parpi\",\n",
    "#         \"CHEMO_platin\", 'CHEMO_serm', 'CHEMO_vegfi',\n",
    "#         'CHLORIDE', 'CO2', 'CREATININE', 'DX_delta',\n",
    "#         'GLUCOSE', 'HB', 'POTASSIUM', 'PROC_delta',\n",
    "#         'SODIUM', 'TBILI', 'TPROTEIN', 'UREA', \"CANCER_TYPE_FINAL\", \"SAMPLE_TYPE\"]"
   ]
  },
  {
   "cell_type": "code",
   "execution_count": null,
   "id": "f644ca6c-b641-47d7-9f87-3b31838ea081",
   "metadata": {
    "id": "f644ca6c-b641-47d7-9f87-3b31838ea081",
    "tags": []
   },
   "outputs": [],
   "source": [
    "transformation_pipeline.get_feature_names_out()"
   ]
  },
  {
   "cell_type": "code",
   "execution_count": null,
   "id": "f263de22-c81d-47ac-8c4a-9fa7caaff395",
   "metadata": {
    "id": "f263de22-c81d-47ac-8c4a-9fa7caaff395",
    "tags": []
   },
   "outputs": [],
   "source": [
    "def torch_model_wrapper(x):\n",
    "    cifs = []\n",
    "    for m in models:\n",
    "        cifs.append(m.predict_cif(x))\n",
    "    cif = np.mean(cifs, dtype=np.float32, axis=0)\n",
    "    return cif[0][180, :]"
   ]
  },
  {
   "cell_type": "code",
   "execution_count": null,
   "id": "fd39a15e-0ec5-4d2b-b419-ab7d3b19fb63",
   "metadata": {
    "id": "fd39a15e-0ec5-4d2b-b419-ab7d3b19fb63",
    "tags": []
   },
   "outputs": [],
   "source": [
    "y_train[1].shape"
   ]
  },
  {
   "cell_type": "code",
   "execution_count": null,
   "id": "a3da8fdb-6271-4247-ae73-57460c12e4bb",
   "metadata": {
    "id": "a3da8fdb-6271-4247-ae73-57460c12e4bb",
    "tags": []
   },
   "outputs": [],
   "source": [
    "features_train.shape"
   ]
  },
  {
   "cell_type": "code",
   "execution_count": null,
   "id": "31fca365-6a9b-4e93-a086-4452bc3798df",
   "metadata": {
    "id": "31fca365-6a9b-4e93-a086-4452bc3798df",
    "tags": []
   },
   "outputs": [],
   "source": [
    "transformation_pipeline.get_feature_names_out()"
   ]
  },
  {
   "cell_type": "code",
   "execution_count": null,
   "id": "2e04eafa-2927-4521-8dca-427e8deb5a93",
   "metadata": {
    "id": "2e04eafa-2927-4521-8dca-427e8deb5a93",
    "tags": []
   },
   "outputs": [],
   "source": [
    "train_df = pd.DataFrame(features_train, columns=transformation_pipeline.get_feature_names_out())"
   ]
  },
  {
   "cell_type": "code",
   "execution_count": null,
   "id": "e67bf461-efa4-42ae-911a-cdc1bd805605",
   "metadata": {
    "id": "e67bf461-efa4-42ae-911a-cdc1bd805605",
    "tags": []
   },
   "outputs": [],
   "source": [
    "train_df.cat__SEX_M.value_counts()"
   ]
  },
  {
   "cell_type": "code",
   "execution_count": null,
   "id": "910e990f-c9a7-4b54-98d0-482780c81209",
   "metadata": {
    "id": "910e990f-c9a7-4b54-98d0-482780c81209",
    "tags": []
   },
   "outputs": [],
   "source": [
    "from sklearn.utils import resample\n",
    "background = resample(features_train, replace=False, n_samples=20, random_state=42, stratify=y_train[1])"
   ]
  },
  {
   "cell_type": "code",
   "execution_count": null,
   "id": "f81286c4-6490-4d60-a1db-f7d24ff38f00",
   "metadata": {
    "id": "f81286c4-6490-4d60-a1db-f7d24ff38f00",
    "tags": []
   },
   "outputs": [],
   "source": [
    "import shap\n",
    "explainer = shap.KernelExplainer(torch_model_wrapper, background)\n"
   ]
  },
  {
   "cell_type": "code",
   "execution_count": null,
   "id": "bdeef5e6-4825-4c93-8aa1-44ea7b15b2e4",
   "metadata": {
    "id": "bdeef5e6-4825-4c93-8aa1-44ea7b15b2e4",
    "tags": []
   },
   "outputs": [],
   "source": [
    "explainer.expected_value"
   ]
  },
  {
   "cell_type": "code",
   "execution_count": null,
   "id": "960536d2-97ef-497b-80f8-12f0f4e0f39b",
   "metadata": {
    "id": "960536d2-97ef-497b-80f8-12f0f4e0f39b",
    "tags": []
   },
   "outputs": [],
   "source": [
    "test_subset = resample(features_test, replace=False, n_samples=1000, random_state=42, stratify=y_test[1])"
   ]
  },
  {
   "cell_type": "code",
   "execution_count": null,
   "id": "8746db7a-e9a4-45b8-8fca-fa827cf9af44",
   "metadata": {
    "id": "8746db7a-e9a4-45b8-8fca-fa827cf9af44",
    "tags": []
   },
   "outputs": [],
   "source": [
    "shap_values = np.load(f\"shap_{feature}.npy\")\n",
    "# shap_values = explainer.shap_values(test_subset, n_samples=100)\n",
    "# np.save(f\"shap_{feature}\", shap_values)"
   ]
  },
  {
   "cell_type": "code",
   "execution_count": null,
   "id": "e5872464-0b73-4d64-9463-7be4b7421ed0",
   "metadata": {
    "id": "e5872464-0b73-4d64-9463-7be4b7421ed0",
    "tags": []
   },
   "outputs": [],
   "source": [
    "subset_df = pd.DataFrame(test_subset, columns=list(transformation_pipeline.get_feature_names_out()))"
   ]
  },
  {
   "cell_type": "code",
   "execution_count": null,
   "id": "26579501-c87c-4c4d-bfdb-621e5d9fb5a0",
   "metadata": {
    "id": "26579501-c87c-4c4d-bfdb-621e5d9fb5a0",
    "tags": []
   },
   "outputs": [],
   "source": [
    "shap.summary_plot(shap_values, subset_df, plot_type=\"bar\", show=False)\n",
    "plt.savefig(get_parent_dir() / f\"visualizations/{feature}_shap_summary_mean.svg\", dpi=300, format=\"svg\", bbox_inches=\"tight\")"
   ]
  },
  {
   "cell_type": "code",
   "execution_count": null,
   "id": "7bac0d71-105f-48ce-9915-9e1d6db742d8",
   "metadata": {
    "id": "7bac0d71-105f-48ce-9915-9e1d6db742d8",
    "tags": []
   },
   "outputs": [],
   "source": [
    "shap.summary_plot(shap_values, subset_df,\n",
    "                  plot_size=(10, 10),\n",
    "                  title=\"SHAP Main Model\",\n",
    "                  show=False)\n",
    "plt.savefig(get_parent_dir() / f\"visualizations/{feature}_shap_summary.svg\", dpi=300, format=\"svg\")"
   ]
  },
  {
   "cell_type": "code",
   "execution_count": null,
   "id": "a4196944-f45e-43da-bc8e-5ec628c1815b",
   "metadata": {
    "id": "a4196944-f45e-43da-bc8e-5ec628c1815b",
    "tags": []
   },
   "outputs": [],
   "source": [
    "shap_values_single = explainer.shap_values(subset_df.iloc[0], nsamples=1000)\n",
    "# fig = plt.figure(figsize=(20, 10))\n",
    "shap.force_plot(explainer.expected_value, shap_values_single, subset_df.iloc[0], show=False, matplotlib=True, text_rotation=20)\n",
    "plt.savefig(get_parent_dir() / f\"visualizations/{feature}_shap_explain_1.svg\", dpi=300, format=\"svg\", bbox_inches=\"tight\")"
   ]
  },
  {
   "cell_type": "code",
   "execution_count": null,
   "id": "07baaa87-34a0-46d2-b778-7fd9335be77d",
   "metadata": {
    "id": "07baaa87-34a0-46d2-b778-7fd9335be77d",
    "tags": []
   },
   "outputs": [],
   "source": [
    "shap_values_single = explainer.shap_values(subset_df.iloc[5,:], nsamples=1000)\n",
    "shap.force_plot(explainer.expected_value, shap_values_single, subset_df.iloc[5,:],\n",
    "                text_rotation=20,show=False,\n",
    "                matplotlib=True)\n",
    "plt.savefig(get_parent_dir() / f\"visualizations/{feature}_shap_explain_2.svg\", \n",
    "            dpi=300,\n",
    "            bbox_inches=\"tight\",\n",
    "            format=\"svg\")"
   ]
  },
  {
   "cell_type": "code",
   "execution_count": null,
   "id": "657b5c63-0746-485b-bd48-c0f85af6cbb8",
   "metadata": {
    "id": "657b5c63-0746-485b-bd48-c0f85af6cbb8",
    "tags": []
   },
   "outputs": [],
   "source": [
    "shap.force_plot(explainer.expected_value, shap_values, subset_df)"
   ]
  },
  {
   "cell_type": "code",
   "execution_count": null,
   "id": "05b8f7d4-db3a-4141-9236-503981d3a177",
   "metadata": {
    "id": "05b8f7d4-db3a-4141-9236-503981d3a177",
    "tags": []
   },
   "outputs": [],
   "source": [
    "shap.dependence_plot(\"num__AGE\", shap_values, subset_df, show=False)\n",
    "plt.savefig(get_parent_dir() / f\"visualizations/{feature}_shap_dep_plot_age.svg\",\n",
    "            bbox_inches=\"tight\",\n",
    "            dpi=300,\n",
    "            format=\"svg\",)\n"
   ]
  },
  {
   "cell_type": "code",
   "execution_count": null,
   "id": "25bb431a-b73b-405d-9d14-9d0202570f1b",
   "metadata": {
    "id": "25bb431a-b73b-405d-9d14-9d0202570f1b",
    "tags": []
   },
   "outputs": [],
   "source": [
    "shap.dependence_plot(\"bin__TP53_alt\", shap_values, subset_df, show=False)\n",
    "plt.savefig(get_parent_dir() / f\"visualizations/{feature}_shap_dep_plot_TP53.svg\",\n",
    "            bbox_inches=\"tight\",\n",
    "            dpi=300, format=\"svg\")"
   ]
  },
  {
   "cell_type": "code",
   "execution_count": null,
   "id": "905d11aa-ee38-460d-b05d-9ee66d03df03",
   "metadata": {
    "id": "905d11aa-ee38-460d-b05d-9ee66d03df03",
    "tags": []
   },
   "outputs": [],
   "source": [
    "shap.dependence_plot(\"num__ALBUMIN\", shap_values, subset_df, show=False)\n",
    "plt.savefig(get_parent_dir() / f\"visualizations/{feature}_shap_dep_plot_ALBUMIN.svg\",\n",
    "            dpi=300,\n",
    "            bbox_inches=\"tight\",\n",
    "            format=\"svg\")"
   ]
  },
  {
   "cell_type": "code",
   "execution_count": null,
   "id": "9885f0a8-a81e-47a3-8d4d-99902dff9e78",
   "metadata": {
    "id": "9885f0a8-a81e-47a3-8d4d-99902dff9e78",
    "tags": []
   },
   "outputs": [],
   "source": [
    "shap.dependence_plot(\"cat__SAMPLE_TYPE_Metastasis\", shap_values, subset_df, show=False)\n",
    "plt.savefig(get_parent_dir() / f\"visualizations/{feature}_shap_dep_plot_Metastasis.svg\",\n",
    "            dpi=300,\n",
    "            bbox_inches=\"tight\",\n",
    "            format=\"svg\")"
   ]
  },
  {
   "cell_type": "code",
   "execution_count": null,
   "id": "128cf374-3847-4138-94c4-88eb5d889965",
   "metadata": {
    "id": "128cf374-3847-4138-94c4-88eb5d889965",
    "tags": []
   },
   "outputs": [],
   "source": [
    "shap.dependence_plot(\"num__CHLORIDE\", shap_values, subset_df, show=False)\n",
    "plt.savefig(get_parent_dir() / f\"visualizations/{feature}_shap_summary_dep_plot_Chloride.svg\",\n",
    "            dpi=300,\n",
    "            bbox_inches=\"tight\",\n",
    "            format=\"svg\")"
   ]
  },
  {
   "cell_type": "code",
   "execution_count": null,
   "id": "9d6d023b-1ccd-45b2-b193-544b5100a4b8",
   "metadata": {
    "id": "9d6d023b-1ccd-45b2-b193-544b5100a4b8",
    "tags": []
   },
   "outputs": [],
   "source": [
    "shap.dependence_plot(\"num__CHEMO_antimetabolite\", shap_values, subset_df, show=False)\n",
    "plt.savefig(get_parent_dir() / f\"visualizations/{feature}_shap_dep_plot_CHEMO_antimetabolite.svg\",\n",
    "            dpi=300,\n",
    "            bbox_inches=\"tight\",\n",
    "            format=\"svg\")"
   ]
  },
  {
   "cell_type": "code",
   "execution_count": null,
   "id": "836f22d8-4a4f-4e6a-831f-3c828427a469",
   "metadata": {
    "id": "836f22d8-4a4f-4e6a-831f-3c828427a469",
    "tags": []
   },
   "outputs": [],
   "source": [
    "shap.dependence_plot(\"num__CHEMO_platin\", shap_values, subset_df, show=False)\n",
    "plt.savefig(get_parent_dir() / f\"visualizations/{feature}_shap_dep_plot_CHEMO_platin.svg\",\n",
    "            bbox_inches=\"tight\",\n",
    "            dpi=300, format=\"svg\")"
   ]
  }
 ],
 "metadata": {
  "kernelspec": {
   "display_name": "Python 3.9 + GPU",
   "language": "python",
   "name": "python3"
  },
  "language_info": {
   "codemirror_mode": {
    "name": "ipython",
    "version": 3
   },
   "file_extension": ".py",
   "mimetype": "text/x-python",
   "name": "python",
   "nbconvert_exporter": "python",
   "pygments_lexer": "ipython3",
   "version": "3.9.12"
  }
 },
 "nbformat": 4,
 "nbformat_minor": 5
}
