{
 "cells": [
  {
   "cell_type": "markdown",
   "metadata": {
    "id": "6274f849-0efc-45b0-9c64-abd120a30a6d",
    "tags": []
   },
   "source": [
    "## Validation: External Cohort 1 (MSK)\n",
    "\n",
    "This notebook has the validation set for external cohort from Jerry"
   ]
  },
  {
   "cell_type": "code",
   "execution_count": null,
   "metadata": {
    "id": "ef806077-c51e-4bf7-a61c-c3c8d818c4f1",
    "tags": []
   },
   "outputs": [],
   "source": [
    "# !pip install seaborn==0.12.0 lifelines scikit-learn==1.1.3 scikit-survival pymongo==3.12.0 python-dotenv pycox numpy==1.20 "
   ]
  },
  {
   "cell_type": "code",
   "execution_count": null,
   "metadata": {
    "id": "98a200e0-aa3e-422b-a74d-2034aec1444d"
   },
   "outputs": [],
   "source": [
    "# https://stats.stackexchange.com/questions/518773/statistical-test-for-comparing-performance-metrics-of-two-regression-models-on-a"
   ]
  },
  {
   "cell_type": "code",
   "execution_count": null,
   "metadata": {
    "id": "22fed597-387f-472f-b95c-8e679687e3a7",
    "tags": []
   },
   "outputs": [],
   "source": [
    "import os\n",
    "\n",
    "import numpy as np\n",
    "import pandas as pd\n",
    "import random\n",
    "import torch\n",
    "from joblib import load, dump\n",
    "from lifelines import KaplanMeierFitter\n",
    "from sklearn.model_selection import train_test_split\n",
    "\n",
    "from dotenv import load_dotenv\n",
    "\n",
    "load_dotenv()"
   ]
  },
  {
   "cell_type": "code",
   "execution_count": null,
   "metadata": {
    "id": "0d031860-e361-49a0-a11d-6780f2d856ce",
    "tags": []
   },
   "outputs": [],
   "source": [
    "import matplotlib\n",
    "import matplotlib.pyplot as plt\n",
    "from matplotlib import cycler\n",
    "\n",
    "color_list = [\n",
    "    \"#E64B35FF\",\n",
    "    \"#4DBBD5FF\",\n",
    "    \"#00A087FF\",\n",
    "    \"#3C5488FF\",\n",
    "    \"#F39B7FFF\",\n",
    "    \"#8491B4FF\",\n",
    "    \"#91D1C2FF\",\n",
    "    \"#DC0000FF\",\n",
    "    \"#7E6148FF\",\n",
    "    \"#B09C85FF\",\n",
    "]\n",
    "matplotlib.rcParams[\"font.family\"] = \"Arial\"\n",
    "matplotlib.rcParams[\"axes.prop_cycle\"] = cycler(color=color_list)\n",
    "plt.rcParams[\"font.size\"] = 18\n",
    "plt.rcParams[\"axes.linewidth\"] = 2"
   ]
  },
  {
   "cell_type": "code",
   "execution_count": null,
   "metadata": {
    "id": "476707a2-9f28-462f-86e8-f60b6fe8e772",
    "tags": []
   },
   "outputs": [],
   "source": [
    "seed = int(os.getenv(\"RANDOM_SEED\"))\n",
    "np.random.seed(seed)\n",
    "torch.manual_seed(seed)\n",
    "random.seed(seed)"
   ]
  },
  {
   "cell_type": "code",
   "execution_count": null,
   "metadata": {
    "id": "79816fd5-f3ee-463c-9a79-06a2ab32fc17",
    "tags": []
   },
   "outputs": [],
   "source": [
    "import os\n",
    "import sys\n",
    "from pathlib import Path\n",
    "import pandas as pd\n",
    "from torch import nn, optim\n",
    "import torchtuples as tt\n",
    "import matplotlib.pyplot as plt\n",
    "import seaborn as sns\n",
    "import matplotlib\n",
    "from sklearn.utils import resample\n",
    "from sklearn.metrics import roc_auc_score\n",
    "\n",
    "pd.set_option(\"max_colwidth\", None)\n",
    "pd.set_option('display.max_columns', None)\n",
    "pd.set_option('display.max_rows', None)\n",
    "\n",
    "module_path = str(Path(\"../scripts\").resolve())\n",
    "if module_path not in sys.path:\n",
    "    sys.path.append(module_path)\n",
    "\n",
    "from vte_deephit import get_target, get_best_params, LabTransform, c_stat\n",
    "from utils import get_parent_dir\n",
    "from utils import calc_ci, plot_roc , plot_calibration, bootstrap_ci, plot_grouped_risks"
   ]
  },
  {
   "cell_type": "code",
   "execution_count": null,
   "metadata": {
    "id": "3a818dde-bf4b-4c7b-9f2e-2b5b50e0cc9b",
    "tags": []
   },
   "outputs": [],
   "source": [
    "get_best_params(\"ext_cohort_1\")"
   ]
  },
  {
   "cell_type": "code",
   "execution_count": null,
   "metadata": {
    "id": "349af3b8-1f46-4283-b45b-0f6a425d8cc2",
    "tags": []
   },
   "outputs": [],
   "source": [
    "# since the external cohort's variable set do not match\n",
    "# any varible set in our list of variable set - we trained an the feature set\n",
    "# availble in the external cohort\n",
    "feature = \"ext_cohort_1\"\n",
    "\n",
    "test_cohort_data = pd.read_csv(\n",
    "    get_parent_dir() / os.getenv(\"DATA_DIR\") / os.getenv(\"EXT_COHORT_1\")\n",
    ")"
   ]
  },
  {
   "cell_type": "code",
   "execution_count": null,
   "metadata": {
    "id": "bf525833-81a2-40c9-b576-1f242b622eec",
    "tags": []
   },
   "outputs": [],
   "source": [
    "test_cohort_data.KS.value_counts()"
   ]
  },
  {
   "cell_type": "code",
   "execution_count": null,
   "metadata": {
    "id": "2f52e14d-f683-4132-987b-d18601892178",
    "tags": []
   },
   "outputs": [],
   "source": [
    "# get observation time \n",
    "new_obs_time = pd.read_csv(get_parent_dir() / \"assets/data_asset/jerry_cohort_modified_2023_03_20.csv\", usecols=[\"AUDIT_SEQ\", \"OBS_TIME_MOD\"])"
   ]
  },
  {
   "cell_type": "code",
   "execution_count": null,
   "metadata": {
    "id": "a2788477-6b07-47a4-aa32-7adcc7f6e9bc",
    "tags": []
   },
   "outputs": [],
   "source": [
    "test_cohort_data = test_cohort_data.merge(new_obs_time, how=\"left\")"
   ]
  },
  {
   "cell_type": "code",
   "execution_count": null,
   "metadata": {
    "id": "5e8404e3-a1ed-444a-8c99-0b72fb9750f0",
    "tags": []
   },
   "outputs": [],
   "source": [
    "test_cohort_data[\"OBS_TIME\"] = np.where((test_cohort_data.EVENT==0) & (test_cohort_data.OBS_TIME_MOD.notna()), test_cohort_data.OBS_TIME_MOD, test_cohort_data.OBS_TIME)"
   ]
  },
  {
   "cell_type": "code",
   "execution_count": null,
   "metadata": {
    "id": "8267672d-1260-415f-98e4-f00861aafe5d",
    "tags": []
   },
   "outputs": [],
   "source": [
    "test_cohort_data.shape"
   ]
  },
  {
   "cell_type": "code",
   "execution_count": null,
   "metadata": {
    "id": "7173c91a-dd35-401f-b571-e48d15712cb0",
    "tags": []
   },
   "outputs": [],
   "source": [
    "test_cohort_data[\"OBS_TIME\"].isna().sum()"
   ]
  },
  {
   "cell_type": "code",
   "execution_count": null,
   "metadata": {
    "id": "49fef37c-0fd0-42aa-b5c7-53e72467d307",
    "tags": []
   },
   "outputs": [],
   "source": [
    "## CENSORING DEATHS\n",
    "\n",
    "test_cohort_data[\"OBS_TIME_MOD\"] = np.where(test_cohort_data[\"OBS_TIME_MOD\"].isna(), test_cohort_data.OBS_TIME, test_cohort_data[\"OBS_TIME_MOD\"])\n",
    "\n",
    "test_cohort_data.shape"
   ]
  },
  {
   "cell_type": "markdown",
   "metadata": {
    "id": "fba3575c-7a56-49a2-827f-5238be92eee0"
   },
   "source": [
    "## plot KM "
   ]
  },
  {
   "cell_type": "code",
   "execution_count": null,
   "metadata": {
    "id": "e4bf12ac-3974-456a-a769-8455e60fa612",
    "tags": []
   },
   "outputs": [],
   "source": [
    "kmf_1 = KaplanMeierFitter()\n",
    "kmf_1.fit_right_censoring(durations=test_cohort_data[\"OBS_TIME\"], event_observed=test_cohort_data[\"EVENT\"]==1)\n",
    "kmf_1.plot_survival_function()"
   ]
  },
  {
   "cell_type": "code",
   "execution_count": null,
   "metadata": {
    "id": "f41d9d83-2e91-4476-bd4d-c0e43e281d3b",
    "tags": []
   },
   "outputs": [],
   "source": [
    "kmf_1 = KaplanMeierFitter()\n",
    "kmf_1.fit_right_censoring(durations=test_cohort_data[\"OBS_TIME_MOD\"], event_observed=test_cohort_data[\"EVENT\"]==1)\n",
    "kmf_1.plot_survival_function()"
   ]
  },
  {
   "cell_type": "code",
   "execution_count": null,
   "metadata": {
    "id": "c65a0ca0-f247-4763-84ca-8c748047e4cf",
    "tags": []
   },
   "outputs": [],
   "source": [
    "plot_roc(test_cohort_data, \"KS\", \"EVENT\", \"External Cohort A - KS AUC\", \"external_cohort_A_KS_AUC\")"
   ]
  },
  {
   "cell_type": "code",
   "execution_count": null,
   "metadata": {
    "id": "d423a22c-e0ab-4ec5-98a1-6d4256e9264a",
    "tags": []
   },
   "outputs": [],
   "source": [
    "from lifelines.utils import concordance_index"
   ]
  },
  {
   "cell_type": "code",
   "execution_count": null,
   "metadata": {
    "id": "a759e941-92c5-41ef-a554-2bf0e563ec85",
    "tags": []
   },
   "outputs": [],
   "source": [
    "lower_cidx, upper_cidx, mean_cidx, cidxs = bootstrap_ci(test_cohort_data, concordance_index, \"EVENT\", \"KS\", \"OBS_TIME\")"
   ]
  },
  {
   "cell_type": "code",
   "execution_count": null,
   "metadata": {
    "id": "5e3d223e-d628-423c-af6a-3420fa1d3b07",
    "tags": []
   },
   "outputs": [],
   "source": [
    "print(f\"{mean_cidx} ({lower_cidx}, {upper_cidx})\")"
   ]
  },
  {
   "cell_type": "code",
   "execution_count": null,
   "metadata": {
    "id": "2fa4e7c4-c082-46fe-9343-cef382afae8d",
    "tags": []
   },
   "outputs": [],
   "source": [
    "hyper_params = get_best_params(feature)"
   ]
  },
  {
   "cell_type": "code",
   "execution_count": null,
   "metadata": {
    "id": "0035095b-98c6-4f09-931d-b047ba50b4ba",
    "tags": []
   },
   "outputs": [],
   "source": [
    "chemo_cols = list(test_cohort_data.filter(regex=\"CHEMO_\").columns)\n",
    "# chemo_cols = [a for a in chemo_cols if \"_DATE\" not in a]\n",
    "test_cohort_data.loc[:, chemo_cols] = test_cohort_data.loc[:, chemo_cols].clip(upper=28)\n",
    "assert test_cohort_data.CHEMO_alkylating.max() == 28\n",
    "assert test_cohort_data.CHEMO_antibiotic.max() == 28\n",
    "assert test_cohort_data.CHEMO_cdki.max() == 28\n",
    "assert test_cohort_data.CHEMO_vegfi.max() == 28\n",
    "assert test_cohort_data.CHEMO_serm.max() == 28\n",
    "assert test_cohort_data.CHEMO_alkylating.min() == 0\n",
    "assert test_cohort_data.CHEMO_antibiotic.min() == 0\n",
    "assert test_cohort_data.CHEMO_cdki.min() == 8\n",
    "assert test_cohort_data.CHEMO_vegfi.min() == 0\n",
    "assert test_cohort_data.CHEMO_serm.min() == 0"
   ]
  },
  {
   "cell_type": "code",
   "execution_count": null,
   "metadata": {
    "id": "f6b4fec4-2c72-4aaa-8296-17c90a4baf18",
    "tags": []
   },
   "outputs": [],
   "source": [
    "chemo_cols"
   ]
  },
  {
   "cell_type": "code",
   "execution_count": null,
   "metadata": {
    "id": "014423c9-aa7e-44d6-91d3-16081438c6d7",
    "tags": []
   },
   "outputs": [],
   "source": [
    "test_cohort_data[test_cohort_data.CANCER_TYPE_FINAL==\"low_grade_glioma\"].values"
   ]
  },
  {
   "cell_type": "code",
   "execution_count": null,
   "metadata": {
    "id": "d7c93d2f-a515-468a-b4ca-0a13be627d84",
    "tags": []
   },
   "outputs": [],
   "source": [
    "# since original data has only one row for `low_grade_glioma` - duplicate that row\n",
    "test_cohort_data.loc[len(test_cohort_data.index)] = test_cohort_data[test_cohort_data.CANCER_TYPE_FINAL==\"low_grade_glioma\"].values[0]"
   ]
  },
  {
   "cell_type": "code",
   "execution_count": null,
   "metadata": {
    "id": "738e3042-40fd-45a2-8b97-86567fdc2a4a"
   },
   "outputs": [],
   "source": []
  },
  {
   "cell_type": "code",
   "execution_count": null,
   "metadata": {
    "id": "0b860eb3-201f-456c-bb05-3c9da070af9d",
    "tags": []
   },
   "outputs": [],
   "source": [
    "test_cohort_data.CANCER_TYPE_FINAL.value_counts()"
   ]
  },
  {
   "cell_type": "code",
   "execution_count": null,
   "metadata": {
    "id": "88a6ab1b-d0f5-428b-ae51-81a9e15c2934",
    "tags": []
   },
   "outputs": [],
   "source": [
    "test_cohort_data[\"EVENT\"].value_counts()"
   ]
  },
  {
   "cell_type": "code",
   "execution_count": null,
   "metadata": {
    "id": "76bfd7e3-b646-4dc8-a583-3a8e9499511f",
    "tags": []
   },
   "outputs": [],
   "source": [
    "352/(5402+496+352)"
   ]
  },
  {
   "cell_type": "code",
   "execution_count": null,
   "metadata": {
    "id": "74170e57-6ccb-4d52-8456-893520651810",
    "tags": []
   },
   "outputs": [],
   "source": [
    "496/(5402+496+352)"
   ]
  },
  {
   "cell_type": "code",
   "execution_count": null,
   "metadata": {
    "id": "31e62491-a735-4509-8f02-5dc3271fc8b5",
    "tags": []
   },
   "outputs": [],
   "source": [
    "sns.histplot(test_cohort_data.OBS_TIME)"
   ]
  },
  {
   "cell_type": "code",
   "execution_count": null,
   "metadata": {
    "id": "328135c0-f041-4a2c-9073-38d7a40c047d",
    "tags": []
   },
   "outputs": [],
   "source": [
    "x_train, x_test = train_test_split(\n",
    "    test_cohort_data, test_size=0.2, stratify=test_cohort_data[\"EVENT\"], random_state=int(os.getenv(\"RANDOM_SEED\"))+1\n",
    ")"
   ]
  },
  {
   "cell_type": "code",
   "execution_count": null,
   "metadata": {
    "id": "169d2768-1859-4da8-884c-17521ddc21bd",
    "tags": []
   },
   "outputs": [],
   "source": [
    "100*x_test.KS.value_counts()/len(x_test)"
   ]
  },
  {
   "cell_type": "code",
   "execution_count": null,
   "metadata": {
    "id": "0c1ceb4f-2fb7-453a-bd05-301f3fec4e08",
    "tags": []
   },
   "outputs": [],
   "source": [
    "# c-index for whole cohort\n",
    "lower_cidx_test, upper_cidx_test, mean_cidx_test, stat_ks_test_cidx_test = bootstrap_ci(test_cohort_data, concordance_index, \"EVENT\", \"KS\", \"OBS_TIME\")\n",
    "\n",
    "print(f\"{mean_cidx_test} ({lower_cidx_test}, {upper_cidx_test})\")"
   ]
  },
  {
   "cell_type": "code",
   "execution_count": null,
   "metadata": {
    "id": "3974b13c-a8b8-4750-a21b-9af2fa08bf8d",
    "tags": []
   },
   "outputs": [],
   "source": [
    "# c-index for test set only\n",
    "lower_cidx_test, upper_cidx_test, mean_cidx_test, stat_ks_test_cidx_test = bootstrap_ci(x_test, concordance_index, \"EVENT\", \"KS\", \"OBS_TIME\")\n",
    "\n",
    "print(f\"{mean_cidx_test} ({lower_cidx_test}, {upper_cidx_test})\")"
   ]
  },
  {
   "cell_type": "code",
   "execution_count": null,
   "metadata": {
    "id": "518fdce1-2ec0-40e2-b18c-1d21036d9fd1",
    "tags": []
   },
   "outputs": [],
   "source": [
    "x_train.head()"
   ]
  },
  {
   "cell_type": "code",
   "execution_count": null,
   "metadata": {
    "id": "4b0c3e51-384c-4873-8c1f-4bda70def593",
    "tags": []
   },
   "outputs": [],
   "source": [
    "print(x_train.shape)\n",
    "x_test.shape"
   ]
  },
  {
   "cell_type": "code",
   "execution_count": null,
   "metadata": {
    "id": "acffcabc-418a-4bf5-83eb-28fd83cca64a",
    "tags": []
   },
   "outputs": [],
   "source": [
    "num_durations = int(max(x_train[\"OBS_TIME\"])) + 1  # for cut-points\n",
    "labtrans = LabTransform(num_durations)\n",
    "labtrans_6 = LabTransform(181)"
   ]
  },
  {
   "cell_type": "code",
   "execution_count": null,
   "metadata": {
    "id": "20fe2d33-88c4-49c2-8cb6-8da9bede1933",
    "tags": []
   },
   "outputs": [],
   "source": [
    "labtrans.cuts"
   ]
  },
  {
   "cell_type": "code",
   "execution_count": null,
   "metadata": {
    "id": "ba938145-29c2-4db1-b490-db04ad135b2d",
    "tags": []
   },
   "outputs": [],
   "source": [
    "y_train = pd.DataFrame({\"event\": x_train.EVENT, \"times\": x_train.OBS_TIME})\n",
    "event_type = int\n",
    "y_train = np.array(\n",
    "    [tuple(a) for a in y_train.values],\n",
    "    dtype=list(zip(y_train.dtypes.index, [event_type, int])),\n",
    ")\n",
    "\n",
    "y_test = pd.DataFrame({\"event\": x_test.EVENT, \"times\": x_test.OBS_TIME})\n",
    "event_type = int\n",
    "y_test = np.array(\n",
    "    [tuple(a) for a in y_test.values],\n",
    "    dtype=list(zip(y_test.dtypes.index, [event_type, int])),\n",
    ")\n",
    "\n",
    "y_train = labtrans.fit_transform(*get_target(y_train))\n",
    "y_test = labtrans.transform(*get_target(y_test))"
   ]
  },
  {
   "cell_type": "code",
   "execution_count": null,
   "metadata": {
    "id": "575aa2ec-59cd-4f9b-a2a1-e3d77f85479b",
    "tags": []
   },
   "outputs": [],
   "source": [
    "y_test[1].max()"
   ]
  },
  {
   "cell_type": "code",
   "execution_count": null,
   "metadata": {
    "id": "d88970da-fe5e-4441-b080-3a6e6e9aa6ba",
    "tags": []
   },
   "outputs": [],
   "source": [
    "x_train.drop([\"OBS_TIME_MOD\",\"OBS_TIME\", \"EVENT\"], axis=1, inplace=True)\n",
    "x_test.drop([\"OBS_TIME_MOD\", \"OBS_TIME\", \"EVENT\"], axis=1, inplace=True)"
   ]
  },
  {
   "cell_type": "code",
   "execution_count": null,
   "metadata": {
    "id": "ed6b8dc7-c69a-45b2-befd-8e0684e52c51",
    "tags": []
   },
   "outputs": [],
   "source": [
    "transformation_pipeline = load(\n",
    "    get_parent_dir() / f\"models/{feature}/preprocessing_fit.joblib\"\n",
    ")\n",
    "# refit original model on new data\n",
    "features_train = transformation_pipeline.transform(x_train).astype(\"float32\");\n",
    "features_test = transformation_pipeline.transform(x_test).astype(\"float32\");"
   ]
  },
  {
   "cell_type": "code",
   "execution_count": null,
   "metadata": {
    "id": "dd062905-5880-4339-bf7a-533b2adfc559",
    "tags": []
   },
   "outputs": [],
   "source": [
    "transformation_pipeline.get_feature_names_out()"
   ]
  },
  {
   "cell_type": "code",
   "execution_count": null,
   "metadata": {
    "id": "60b5aa72-0003-4473-9385-c676e9ff06f4",
    "tags": []
   },
   "outputs": [],
   "source": [
    "print(features_test.shape)"
   ]
  },
  {
   "cell_type": "code",
   "execution_count": null,
   "metadata": {
    "id": "309b7060-2e8e-4fa1-af60-3334a8c45987",
    "tags": []
   },
   "outputs": [],
   "source": [
    "# full_data = np.vstack([features_train, features_val, features_test])\n",
    "full_data = np.vstack([features_train, features_test])"
   ]
  },
  {
   "cell_type": "code",
   "execution_count": null,
   "metadata": {
    "id": "d6777ec6-15a6-46f4-9f7a-1fede7590a7b",
    "tags": []
   },
   "outputs": [],
   "source": [
    "full_data.shape"
   ]
  },
  {
   "cell_type": "code",
   "execution_count": null,
   "metadata": {
    "id": "45bf290e-8a92-4091-b988-2145ebd0d874",
    "tags": []
   },
   "outputs": [],
   "source": [
    "# full_target = (np.concatenate((y_train[0], y_val[0], y_test[0])), np.concatenate((y_train[1], y_val[1], y_test[1])))\n",
    "full_target = (np.concatenate((y_train[0], y_test[0])), np.concatenate((y_train[1], y_test[1])))"
   ]
  },
  {
   "cell_type": "code",
   "execution_count": null,
   "metadata": {
    "id": "fa0ba734-8b40-4eab-a7e5-68ac626725a3",
    "tags": []
   },
   "outputs": [],
   "source": [
    "hyper_params"
   ]
  },
  {
   "cell_type": "code",
   "execution_count": null,
   "metadata": {
    "id": "7a94f2ad-ee0a-4f64-a22c-964a8a990b35",
    "tags": []
   },
   "outputs": [],
   "source": [
    "full_target[0].max()"
   ]
  },
  {
   "cell_type": "code",
   "execution_count": null,
   "metadata": {
    "id": "50eb2204-fd55-4059-a3da-39214b82b399",
    "tags": []
   },
   "outputs": [],
   "source": [
    "import torch\n",
    "from pycox.models import DeepHit\n",
    "from vte_deephit import CauseSpecificNet\n",
    "\n",
    "if torch.cuda.is_available():\n",
    "    device = \"cuda:0\"\n",
    "else:\n",
    "    device = \"cpu\"\n",
    "\n",
    "print(device)\n",
    "n = 30\n",
    "\n",
    "params = load(get_parent_dir() / f\"models/{feature}/params.pkl\")\n",
    "models = []\n",
    "for i in range(n):\n",
    "    net = CauseSpecificNet(**params)\n",
    "    optimizer = tt.optim.AdamWR(\n",
    "        lr=.1*hyper_params[\"lr\"], decoupled_weight_decay=hyper_params[\"L2_par\"],\n",
    "                            cycle_eta_multiplier=hyper_params[\"eta_par\"]\n",
    "    )\n",
    "    m = DeepHit(net, \n",
    "                optimizer=optimizer, \n",
    "                alpha=hyper_params[\"alpha_par\"], \n",
    "                sigma=hyper_params[\"sigma_par\"], \n",
    "                device=device,\n",
    "                duration_index=labtrans.cuts)\n",
    "    m.load_model_weights(get_parent_dir() / f\"models/{feature}/model_{i}.pt\")\n",
    "    models.append(m)\n",
    "\n",
    "cifs_full = []\n",
    "\n",
    "for sm in models:\n",
    "    cifs_full.append(sm.predict_cif(full_data))\n",
    "\n",
    "cif_full = np.mean(cifs_full, dtype=np.float64, axis=0)\n"
   ]
  },
  {
   "cell_type": "code",
   "execution_count": null,
   "metadata": {
    "id": "3f5ba96b-9e63-4925-9d22-0d1dfb9d00d3",
    "tags": []
   },
   "outputs": [],
   "source": [
    "models[0].net"
   ]
  },
  {
   "cell_type": "code",
   "execution_count": null,
   "metadata": {
    "id": "cf8f2451-46df-46bc-bdad-26df4ed457c8",
    "tags": []
   },
   "outputs": [],
   "source": [
    "c_stat_full = c_stat(\n",
    "    cif_full[:, :181, :], full_target[0], full_target[1], labtrans.cuts, suffix=\"ext_cohort_1_ks\",\n",
    ")\n",
    "c_stat_full"
   ]
  },
  {
   "cell_type": "code",
   "execution_count": null,
   "metadata": {
    "id": "083b55bd-a596-4cfc-94ff-e8c61d1217b0",
    "tags": []
   },
   "outputs": [],
   "source": [
    "cifs_test = []\n",
    "\n",
    "for sm in models:\n",
    "    cifs_test.append(sm.predict_cif(features_test))\n",
    "\n",
    "cif_test = np.mean(cifs_test, dtype=np.float64, axis=0)\n",
    "c_stat_test = c_stat(\n",
    "    cif_test[:, :181, :],\n",
    "    y_test[0],\n",
    "    y_test[1],\n",
    "    labtrans.cuts,\n",
    "    suffix=\"ext_cohort_1_test\",\n",
    ")\n",
    "c_stat_test"
   ]
  },
  {
   "cell_type": "markdown",
   "metadata": {
    "id": "b9212609-a9c3-4472-9934-fcfe104f792d"
   },
   "source": [
    "## Transfer learning - only last layer"
   ]
  },
  {
   "cell_type": "code",
   "execution_count": null,
   "metadata": {
    "id": "28b398f3-d2dd-41d4-9233-c2c744901e85",
    "tags": []
   },
   "outputs": [],
   "source": [
    "print(models[0].net)"
   ]
  },
  {
   "cell_type": "code",
   "execution_count": null,
   "metadata": {
    "id": "5762c1f5-90c4-4031-afe4-bf697c6b1bbd",
    "tags": []
   },
   "outputs": [],
   "source": [
    "features_train.shape"
   ]
  },
  {
   "cell_type": "code",
   "execution_count": null,
   "metadata": {
    "id": "34c9a46a-9328-4e7e-8830-339af6ee7c93",
    "tags": []
   },
   "outputs": [],
   "source": [
    "feature"
   ]
  },
  {
   "cell_type": "code",
   "execution_count": null,
   "metadata": {
    "id": "a726ad99-3c7e-4508-883e-36244ca2eeb5",
    "tags": []
   },
   "outputs": [],
   "source": [
    "sum(p.numel() for p in models[0].net.parameters() if p.requires_grad)"
   ]
  },
  {
   "cell_type": "code",
   "execution_count": null,
   "metadata": {
    "id": "0f92f509-8be0-4c40-bf9f-ecda50c7b3d3",
    "tags": []
   },
   "outputs": [],
   "source": [
    "labtrans.cuts"
   ]
  },
  {
   "cell_type": "code",
   "execution_count": null,
   "metadata": {
    "id": "4c9a6315-051d-4a66-ad29-82c932fcc44e",
    "tags": []
   },
   "outputs": [],
   "source": [
    "tl_models = []\n",
    "n = 30\n",
    "if (get_parent_dir() / f\"models_finetuned/{feature}\").is_dir():\n",
    "    params = load(get_parent_dir() / f\"models_finetuned/{feature}/params.pkl\")\n",
    "    for i in range(n):\n",
    "        net = CauseSpecificNet(**params)\n",
    "        optimizer = tt.optim.AdamWR(\n",
    "            lr=.1*hyper_params[\"lr\"], decoupled_weight_decay=hyper_params[\"L2_par\"],\n",
    "                                cycle_eta_multiplier=hyper_params[\"eta_par\"]\n",
    "        )\n",
    "        tm = DeepHit(net,\n",
    "                     optimizer=optimizer,\n",
    "                     alpha=hyper_params[\"alpha_par\"],\n",
    "                     sigma=hyper_params[\"sigma_par\"],\n",
    "                     device=device,\n",
    "                     duration_index=labtrans.cuts)\n",
    "\n",
    "        tm.load_model_weights(get_parent_dir() / f\"models_finetuned/{feature}/model_{i}.pt\")\n",
    "        tl_models.append(tm)\n",
    "else:\n",
    "    print(\"No finetuned model found\")\n",
    "    params = load(get_parent_dir() / f\"models/{feature}/params.pkl\")\n",
    "\n",
    "    for i in range(n):\n",
    "        net = CauseSpecificNet(**params)\n",
    "        optimizer = tt.optim.AdamWR(\n",
    "            lr=.1*hyper_params[\"lr\"], decoupled_weight_decay=hyper_params[\"L2_par\"],\n",
    "                                cycle_eta_multiplier=hyper_params[\"eta_par\"]\n",
    "        )\n",
    "        tm = DeepHit(net,\n",
    "                     optimizer=optimizer,\n",
    "                     alpha=hyper_params[\"alpha_par\"],\n",
    "                     sigma=hyper_params[\"sigma_par\"],\n",
    "                     device=device,\n",
    "                     duration_index=labtrans.cuts)\n",
    "\n",
    "        tm.load_model_weights(get_parent_dir() / f\"models/{feature}/model_{i}.pt\")\n",
    "        tl_models.append(tm)\n",
    "\n",
    "    layers_to_tune = [\"risk_nets.0.net.2.weight\", \n",
    "                      \"risk_nets.0.net.2.bias\",\n",
    "                      \"risk_nets.1.net.2.weight\",\n",
    "                      \"risk_nets.1.net.2.bias\",\n",
    "                     ]\n",
    "\n",
    "    for m in tl_models:\n",
    "        total_trainable_params = 0\n",
    "        total_non_trainable_params = 0\n",
    "        for name, prms in m.net.named_parameters():\n",
    "            # Freeze the parameters except the last layer\n",
    "            if name in layers_to_tune:\n",
    "                prms.requires_grad = True\n",
    "            else:\n",
    "                prms.requires_grad = False\n",
    "\n",
    "        for param in m.net.parameters():\n",
    "            if not param.requires_grad:\n",
    "                total_non_trainable_params += param.numel()\n",
    "            else:\n",
    "                total_trainable_params += param.numel()\n",
    "        print(f\"Total Trainable params = {total_trainable_params}\\nTotal non-trainable params = {total_non_trainable_params}\")\n",
    "        log = m.fit(features_train, (y_train[0], y_train[1]), features_train.shape[1], 30, verbose=True)\n",
    "    \n",
    "    print(f\"Saving models for {feature} to models_finetuned/{feature}\")\n",
    "    Path((get_parent_dir() / f\"models_finetuned/{feature}\")).mkdir(parents=True, exist_ok=True)\n",
    "    params = {\n",
    "        \"in_features\": features_train.shape[1],\n",
    "        \"num_nodes_shared\": [int(hyper_params.get(\"w_shared\")), int(hyper_params.get(\"d_shared\"))],\n",
    "        \"num_nodes_indiv\": [int(hyper_params.get(\"w_indiv\")), int(hyper_params.get(\"d_indiv\"))],\n",
    "        \"num_risks\": int(y_train[1].max()),\n",
    "        \"out_features\": 1065,\n",
    "        \"batch_norm\": True,\n",
    "        \"dropout\": hyper_params.get(\"dropout\"),\n",
    "    }\n",
    "    dump(params, get_parent_dir() / f\"models_finetuned/{feature}/params.pkl\")\n",
    "    for i, m in enumerate(tl_models):\n",
    "        m.save_model_weights(get_parent_dir() / f\"models_finetuned/{feature}/model_{i}.pt\")\n",
    "    print(f\"Saved fine_tuned models for feature {feature}\")"
   ]
  },
  {
   "cell_type": "code",
   "execution_count": null,
   "metadata": {
    "id": "4586ca6b-5700-4008-8798-aeafd0cfc205",
    "tags": []
   },
   "outputs": [],
   "source": [
    "(tl_models[0].net.risk_nets[0].net[2].weight - models[0].net.risk_nets[0].net[2].weight).sum()"
   ]
  },
  {
   "cell_type": "code",
   "execution_count": null,
   "metadata": {
    "id": "eb2ce9e3-e401-42db-a513-344826562614",
    "tags": []
   },
   "outputs": [],
   "source": [
    "(tl_models[0].net.risk_nets[0].net[2].bias - models[0].net.risk_nets[0].net[2].bias).sum()"
   ]
  },
  {
   "cell_type": "code",
   "execution_count": null,
   "metadata": {
    "id": "df2f9d94-1c6e-46fe-8d92-e8a47f5cd2b8",
    "tags": []
   },
   "outputs": [],
   "source": [
    "cifs_tl_full = []\n",
    "for sm in tl_models:\n",
    "        cifs_tl_full.append(sm.predict_cif(features_test))\n",
    "        \n",
    "cif_tl_full = np.mean(cifs_tl_full, dtype=np.float64, axis=0)"
   ]
  },
  {
   "cell_type": "code",
   "execution_count": null,
   "metadata": {
    "id": "b9416c2d-3e05-45fa-92c1-9fb683a05535",
    "tags": []
   },
   "outputs": [],
   "source": [
    "c_stat(\n",
    "    cif_tl_full[:, :181, :],\n",
    "    y_test[0],\n",
    "    y_test[1],\n",
    "    labtrans.cuts,\n",
    "    suffix=\"ext_cohort_1_ks\",\n",
    ")\n"
   ]
  },
  {
   "cell_type": "code",
   "execution_count": null,
   "metadata": {
    "id": "c9c641d5-3249-400b-8f7f-1615ccb7b0a9",
    "tags": []
   },
   "outputs": [],
   "source": [
    "cifs_non_tl_full = []\n",
    "for sm in models:\n",
    "        cifs_non_tl_full.append(sm.predict_cif(features_test))\n",
    "\n",
    "cif_non_tl_full = np.mean(cifs_non_tl_full, dtype=np.float64, axis=0)"
   ]
  },
  {
   "cell_type": "code",
   "execution_count": null,
   "metadata": {
    "id": "9fb0096c-8a3f-41d4-891c-accfb72a3e71",
    "tags": []
   },
   "outputs": [],
   "source": [
    "cif_full_jerry_non_tl = pd.DataFrame({\n",
    "    \"cif\": cif_non_tl_full[0][180, :],\n",
    "    \"event\": y_test[1]==1\n",
    "}\n",
    ")"
   ]
  },
  {
   "cell_type": "code",
   "execution_count": null,
   "metadata": {
    "id": "e148da6f-1bb8-4a3d-bb83-7e522a591fb0",
    "tags": []
   },
   "outputs": [],
   "source": [
    "y_test[1]"
   ]
  },
  {
   "cell_type": "code",
   "execution_count": null,
   "metadata": {
    "id": "defafcb3-81a8-4b08-881d-4825c25ba9b4",
    "tags": []
   },
   "outputs": [],
   "source": [
    "cif_full_jerry = pd.DataFrame({\n",
    "    \"cif\": cif_tl_full[0][180, :],\n",
    "    \"event\": y_test[1]==1\n",
    "}\n",
    ")"
   ]
  },
  {
   "cell_type": "code",
   "execution_count": null,
   "metadata": {
    "id": "f8f261b6-95f8-43da-ae5f-eb7facca4d36",
    "tags": []
   },
   "outputs": [],
   "source": [
    "plot_roc(cif_full_jerry_non_tl, \"cif\", \"event\", \"External Cohort A - DeepHit Limited Model\",save=True, fname=\"ext_cohort_a_roc_before_tl\")"
   ]
  },
  {
   "cell_type": "code",
   "execution_count": null,
   "metadata": {
    "id": "df5965a4-88e3-4d65-8232-853b4de1b46b",
    "tags": []
   },
   "outputs": [],
   "source": [
    "plot_roc(cif_full_jerry,\n",
    "         \"cif\", \"event\", \"External Cohort A - DeepHit Limited Model\",\n",
    "         save=True,\n",
    "         fname=\"ext_cohort_a_roc_after_tl\")"
   ]
  },
  {
   "cell_type": "code",
   "execution_count": null,
   "metadata": {
    "id": "63c0acf3-f2fa-44be-bd25-2f38a86f4232",
    "tags": []
   },
   "outputs": [],
   "source": [
    "samples = 200\n",
    "scores = []\n",
    "for j in range(samples):\n",
    "    sub_test, sub_test_y_0, sub_test_y_1 = resample(\n",
    "            features_test, y_test[0], y_test[1], stratify=y_test[1],random_state=j\n",
    "        )\n",
    "    cifs_tl = []\n",
    "    for sm in tl_models:\n",
    "        cifs_tl.append(sm.predict_cif(sub_test))\n",
    "\n",
    "    cif_tl = np.mean(cifs_tl, dtype=np.float64, axis=0)\n",
    "    c_stat_tl = c_stat(\n",
    "            cif_tl[:, :181, :],\n",
    "            sub_test_y_0,\n",
    "            sub_test_y_1,\n",
    "            tl_models[0].duration_index,\n",
    "            suffix=\"test_jerry_tl_ks\"\n",
    "        )\n",
    "\n",
    "    cifs_non_tl = []\n",
    "    for sm in models:\n",
    "        cifs_non_tl.append(sm.predict_cif(sub_test))\n",
    "\n",
    "    cif_non_tl = np.mean(cifs_non_tl, dtype=np.float64, axis=0)\n",
    "    c_stat_tl.update(c_stat(\n",
    "            cif_non_tl[:, :181, :],\n",
    "            sub_test_y_0,\n",
    "            sub_test_y_1,\n",
    "            models[0].duration_index,\n",
    "            suffix=\"test_jerry_wo_tl_ks\"\n",
    "        ))\n",
    "\n",
    "    scores.append(c_stat_tl)\n",
    "\n",
    "assert len(scores) == samples"
   ]
  },
  {
   "cell_type": "code",
   "execution_count": null,
   "metadata": {
    "id": "ce0fd4d5-3c04-49c7-bc33-cf9edc9fbf9b",
    "tags": []
   },
   "outputs": [],
   "source": [
    "res = pd.concat([pd.DataFrame(df) for df in scores])\n",
    "res[\"feature\"] = feature"
   ]
  },
  {
   "cell_type": "code",
   "execution_count": null,
   "metadata": {
    "id": "e299971e-0fff-40c6-b9d0-beed43eeb0c7",
    "tags": []
   },
   "outputs": [],
   "source": [
    "res.groupby(\"feature\").agg([\"mean\", calc_ci])"
   ]
  },
  {
   "cell_type": "code",
   "execution_count": null,
   "metadata": {
    "id": "6582f462-304f-4762-89d5-849286728587",
    "tags": []
   },
   "outputs": [],
   "source": [
    "# KS On test set: 0.65 (.58,  0.71)"
   ]
  },
  {
   "cell_type": "code",
   "execution_count": null,
   "metadata": {
    "id": "4be06572-0f8f-4c91-b25e-d71425e4e547",
    "tags": []
   },
   "outputs": [],
   "source": [
    "res.groupby(\"feature\").agg([\"mean\", calc_ci]).to_csv(\"jerry_cohort_tl.csv\", index=None)"
   ]
  },
  {
   "cell_type": "code",
   "execution_count": null,
   "metadata": {
    "id": "f531cc93-1e1f-4e2c-abfa-1cb6dc1f95d7",
    "tags": []
   },
   "outputs": [],
   "source": [
    "res.td_c_idx_vte_test_jerry_tl_ks.mean()"
   ]
  },
  {
   "cell_type": "code",
   "execution_count": null,
   "metadata": {
    "id": "ab3826c4-293f-4a4a-bf9e-b64ed9e3b48a",
    "tags": []
   },
   "outputs": [],
   "source": [
    "res.td_c_idx_vte_test_jerry_wo_tl_ks.mean()"
   ]
  },
  {
   "cell_type": "code",
   "execution_count": null,
   "metadata": {
    "id": "fc319cc6-8880-47ae-ae7d-68ebb56bc800",
    "tags": []
   },
   "outputs": [],
   "source": [
    "sns.histplot(cif_non_tl[0, 180, :])"
   ]
  },
  {
   "cell_type": "code",
   "execution_count": null,
   "metadata": {
    "id": "ad47d4e0-e474-4fa9-859c-6fb4329d05e6",
    "tags": []
   },
   "outputs": [],
   "source": [
    "sns.histplot(cif_tl[0, 180, :])"
   ]
  },
  {
   "cell_type": "code",
   "execution_count": null,
   "metadata": {
    "id": "e9597769-8700-411f-899b-5ba21baeb76d",
    "tags": []
   },
   "outputs": [],
   "source": [
    "y_test[1][:5]"
   ]
  },
  {
   "cell_type": "code",
   "execution_count": null,
   "metadata": {
    "id": "e5e0af28-6ee9-4bd4-a4b8-610fa03cbfa3",
    "tags": []
   },
   "outputs": [],
   "source": [
    "obs_time = estimate = np.where(y_test[1]==2, 180, y_test[0])"
   ]
  },
  {
   "cell_type": "code",
   "execution_count": null,
   "metadata": {
    "id": "d9fe52af-9deb-4c45-936a-e3f2c2a99b71",
    "tags": []
   },
   "outputs": [],
   "source": [
    "full_cifs_tl = []\n",
    "\n",
    "for sm in tl_models:\n",
    "    full_cifs_tl.append(sm.predict_cif(features_test))\n",
    "    \n",
    "full_cif_tl = np.mean(full_cifs_tl, dtype=np.float64, axis=0)"
   ]
  },
  {
   "cell_type": "code",
   "execution_count": null,
   "metadata": {
    "id": "1dde774c-e2c3-410a-897b-f295e38e3b22",
    "tags": []
   },
   "outputs": [],
   "source": [
    "cif_at_180_test = full_cif_tl[0][180, :]"
   ]
  },
  {
   "cell_type": "code",
   "execution_count": null,
   "metadata": {
    "id": "221db7aa-b7a2-453d-98c7-a4027a287669",
    "tags": []
   },
   "outputs": [],
   "source": [
    "plt.plot(cif_at_180_test)"
   ]
  },
  {
   "cell_type": "code",
   "execution_count": null,
   "metadata": {
    "id": "2bb977b5-6814-4053-910b-781048538656",
    "tags": []
   },
   "outputs": [],
   "source": [
    "KS = x_test.KS"
   ]
  },
  {
   "cell_type": "code",
   "execution_count": null,
   "metadata": {
    "id": "d6b29924-af73-4e2c-8d6b-06d8d592d5ee",
    "tags": []
   },
   "outputs": [],
   "source": [
    "df_compare_khorana = pd.DataFrame({\"cif\": cif_at_180_test, \"ks\": KS, \"event\": y_test[1], \"obs_time\": y_test[0]})"
   ]
  },
  {
   "cell_type": "code",
   "execution_count": null,
   "metadata": {
    "id": "b00e565c-d81b-45a7-b517-ede4b1d528ab",
    "tags": []
   },
   "outputs": [],
   "source": [
    "df_compare_khorana.shape"
   ]
  },
  {
   "cell_type": "code",
   "execution_count": null,
   "metadata": {
    "id": "368de9b2-d3ba-4cda-919d-eabe70ee8833",
    "tags": []
   },
   "outputs": [],
   "source": [
    "df_compare_khorana.head()"
   ]
  },
  {
   "cell_type": "code",
   "execution_count": null,
   "metadata": {
    "id": "c964a838-8eeb-4643-8d3e-648843277a62",
    "tags": []
   },
   "outputs": [],
   "source": [
    "sns.displot(df_compare_khorana.cif)"
   ]
  },
  {
   "cell_type": "code",
   "execution_count": null,
   "metadata": {
    "id": "1148c502-0df8-4c36-82cd-8dd84532bebd",
    "tags": []
   },
   "outputs": [],
   "source": [
    "from utils import get_estimated_cif"
   ]
  },
  {
   "cell_type": "code",
   "execution_count": null,
   "metadata": {
    "id": "3fcd694e-716d-4504-862d-771ac66aac69",
    "tags": []
   },
   "outputs": [],
   "source": [
    "def get_pair_counts_and_vte(df, ks_condition, cif_condition):\n",
    "    filtered_df = df[ks_condition & cif_condition]\n",
    "    pair_count = len(filtered_df)\n",
    "    vte_estimate = get_estimated_cif(filtered_df[\"obs_time\"], filtered_df[\"event\"])\n",
    "    return pair_count, vte_estimate\n",
    "\n",
    "int_risk_ppv=.09\n",
    "high_risk_condition = (df_compare_khorana.ks >= 2)\n",
    "low_risk_condition = (df_compare_khorana.ks < 2)\n",
    "high_cif_condition = (df_compare_khorana.cif >= int_risk_ppv)\n",
    "low_cif_condition = (df_compare_khorana.cif < int_risk_ppv)\n",
    "\n",
    "concordant_pairs_high_risk, concordant_high_risk_vte = get_pair_counts_and_vte(df_compare_khorana, high_risk_condition, high_cif_condition)\n",
    "discordant_pairs_high_risk, discordant_high_risk_vte = get_pair_counts_and_vte(df_compare_khorana, low_risk_condition, high_cif_condition)\n",
    "\n",
    "concordant_pairs_low_risk, concordant_low_risk_vte = get_pair_counts_and_vte(df_compare_khorana, low_risk_condition, low_cif_condition)\n",
    "discordant_pairs_low_risk, discordant_low_risk_vte = get_pair_counts_and_vte(df_compare_khorana, high_risk_condition, low_cif_condition)\n"
   ]
  },
  {
   "cell_type": "code",
   "execution_count": null,
   "metadata": {
    "id": "a9b9eefc-2be1-4496-9ca9-8ce2d9108a77",
    "tags": []
   },
   "outputs": [],
   "source": [
    "data = {\n",
    "    \"Concordant Pairs\": {\n",
    "        \"KS\": [\"High Risk\", \"Low Risk\"],\n",
    "        \"DeepVTE\": [\"High Risk\", \"Low Risk\"],\n",
    "        \"No\": [\n",
    "           concordant_pairs_high_risk,\n",
    "           concordant_pairs_low_risk,\n",
    "        ],\n",
    "        \"Incidence VTE\": [concordant_high_risk_vte, concordant_low_risk_vte]\n",
    "    },\n",
    "    \"Discordant Pairs\": {\n",
    "        \"KS\": [\"Low Risk\", \"High Risk\"],\n",
    "        \"DeepVTE\": [\"High Risk\", \"Low Risk\"],\n",
    "        \"No\": [\n",
    "            discordant_pairs_high_risk,\n",
    "            discordant_pairs_low_risk,\n",
    "        ],\n",
    "        \"Incidence VTE\": [discordant_high_risk_vte, discordant_low_risk_vte]\n",
    "    },\n",
    "}"
   ]
  },
  {
   "cell_type": "code",
   "execution_count": null,
   "metadata": {
    "id": "14462b96-dd7e-428a-a5d5-f0ca14b50b76",
    "tags": []
   },
   "outputs": [],
   "source": [
    "pd.concat([pd.DataFrame.from_dict(data[\"Concordant Pairs\"]), pd.DataFrame.from_dict(data[\"Discordant Pairs\"])])"
   ]
  },
  {
   "cell_type": "code",
   "execution_count": null,
   "metadata": {
    "id": "83df08a1-8c47-414a-9fcf-8a9e2eb0007d",
    "tags": []
   },
   "outputs": [],
   "source": [
    "pd.concat([pd.DataFrame.from_dict(data[\"Concordant Pairs\"]), pd.DataFrame.from_dict(data[\"Discordant Pairs\"])]).to_csv(\"external_cohort_a_reclassification.csv\")"
   ]
  },
  {
   "cell_type": "code",
   "execution_count": null,
   "metadata": {
    "id": "ee402a4a-81e8-45d2-82c0-285ce9619980",
    "tags": []
   },
   "outputs": [],
   "source": [
    "full_cifs_non_tl = []\n",
    "\n",
    "for sm in models:\n",
    "    full_cifs_non_tl.append(sm.predict_cif(features_test))\n",
    "    \n",
    "full_cif_non_tl = np.mean(full_cifs_non_tl, dtype=np.float64, axis=0)"
   ]
  },
  {
   "cell_type": "code",
   "execution_count": null,
   "metadata": {
    "id": "74583c2a-a5fd-41eb-b265-aa6ac3da593a",
    "tags": []
   },
   "outputs": [],
   "source": [
    "plot_grouped_risks(full_cif_non_tl, time_of_interest=181, save=True, name=\"grouped_risks_ext_cohort_a_validation_non_tl\")"
   ]
  },
  {
   "cell_type": "code",
   "execution_count": null,
   "metadata": {
    "id": "70293d51-07ff-45df-823d-03468e226a56",
    "tags": []
   },
   "outputs": [],
   "source": [
    "plot_calibration(full_cif_non_tl[0][180, :],\n",
    "                 durations=y_test[0],\n",
    "                 events=y_test[1],\n",
    "                 feature=\"External Cohort A\",\n",
    "                 name=\"Before Transfer Learning\",\n",
    "                 save=True)"
   ]
  },
  {
   "cell_type": "code",
   "execution_count": null,
   "metadata": {
    "id": "2caa9520-586b-4dca-816d-f26d56059f8e",
    "tags": []
   },
   "outputs": [],
   "source": [
    "plot_grouped_risks(full_cif_tl, time_of_interest=181, save=True, name=\"grouped_risks_ext_cohort_a_validation_tl\")"
   ]
  },
  {
   "cell_type": "code",
   "execution_count": null,
   "metadata": {
    "id": "13d77c7f-7dcb-45aa-b156-f415afc9df0a",
    "tags": []
   },
   "outputs": [],
   "source": [
    "plot_calibration(full_cif_tl[0][180, :],\n",
    "                 durations=y_test[0],\n",
    "                 events=y_test[1],\n",
    "                 feature=\"External Cohort A\",\n",
    "                 name=\"After Transfer Learning\",\n",
    "                 save=True)"
   ]
  },
  {
   "cell_type": "markdown",
   "metadata": {
    "id": "365771c7-9af5-4910-b8c2-ea6d97382bf9"
   },
   "source": [
    "### TL Full retrain"
   ]
  },
  {
   "cell_type": "code",
   "execution_count": null,
   "metadata": {
    "id": "5fadd763-dfdf-49c8-9989-135e8d71f896",
    "tags": []
   },
   "outputs": [],
   "source": [
    "tl_models_full_retrain = []\n",
    "n = 30\n",
    "if (get_parent_dir() / f\"models_finetuned/{feature}/full_retrain\").is_dir():\n",
    "    params = load(get_parent_dir() / f\"models_finetuned/{feature}/full_retrain/params.pkl\")\n",
    "    for i in range(n):\n",
    "        net = CauseSpecificNet(**params)\n",
    "        optimizer = tt.optim.AdamWR(\n",
    "            lr=hyper_params[\"lr\"], decoupled_weight_decay=hyper_params[\"L2_par\"],\n",
    "                                cycle_eta_multiplier=hyper_params[\"eta_par\"]\n",
    "        )\n",
    "        tm = DeepHit(net,\n",
    "                     optimizer=optimizer,\n",
    "                     alpha=hyper_params[\"alpha_par\"],\n",
    "                     sigma=hyper_params[\"sigma_par\"],\n",
    "                     device=device,\n",
    "                     duration_index=labtrans.cuts)\n",
    "\n",
    "        tm.load_model_weights(get_parent_dir() / f\"models_finetuned/{feature}/full_retrain/model_{i}.pt\")\n",
    "        tl_models_full_retrain.append(tm)\n",
    "else:\n",
    "    print(\"No finetuned model found\")\n",
    "    params = load(get_parent_dir() / f\"models/{feature}/params.pkl\")\n",
    "    tl_models_full_retrain = []\n",
    "\n",
    "    for i in range(n):\n",
    "        net = CauseSpecificNet(**params)\n",
    "        optimizer = tt.optim.AdamWR(\n",
    "            lr=hyper_params[\"lr\"], decoupled_weight_decay=hyper_params[\"L2_par\"],\n",
    "                                cycle_eta_multiplier=hyper_params[\"eta_par\"]\n",
    "        )\n",
    "        tm = DeepHit(net,\n",
    "                     optimizer=optimizer,\n",
    "                     alpha=hyper_params[\"alpha_par\"],\n",
    "                     sigma=hyper_params[\"sigma_par\"],\n",
    "                     device=device,\n",
    "                     duration_index=labtrans.cuts)\n",
    "\n",
    "        tm.load_model_weights(get_parent_dir() / f\"models/{feature}/model_{i}.pt\")\n",
    "        tl_models_full_retrain.append(tm)\n",
    "\n",
    "    # layers_to_tune = [\"risk_nets.0.net.2.weight\", \n",
    "    #                   \"risk_nets.0.net.2.bias\",\n",
    "    #                   \"risk_nets.1.net.2.weight\",\n",
    "    #                   \"risk_nets.1.net.2.bias\",\n",
    "    #                  ]\n",
    "\n",
    "    for m in tl_models_full_retrain:\n",
    "        total_trainable_params = 0\n",
    "        total_non_trainable_params = 0\n",
    "        for param in m.net.parameters():\n",
    "            if not param.requires_grad:\n",
    "                total_non_trainable_params += param.numel()\n",
    "            else:\n",
    "                total_trainable_params += param.numel()\n",
    "        print(f\"Total Trainable params = {total_trainable_params}\\nTotal non-trainable params = {total_non_trainable_params}\")\n",
    "        log = m.fit(features_train, (y_train[0], y_train[1]), features_train.shape[1], 30, verbose=True)\n",
    "\n",
    "    print(f\"Saving models for {feature} to models_finetuned/{feature}/full_retrain\")\n",
    "    Path((get_parent_dir() / f\"models_finetuned/{feature}/full_retrain\")).mkdir(parents=True, exist_ok=True)\n",
    "    params = {\n",
    "        \"in_features\": features_train.shape[1],\n",
    "        \"num_nodes_shared\": [int(hyper_params.get(\"w_shared\")), int(hyper_params.get(\"d_shared\"))],\n",
    "        \"num_nodes_indiv\": [int(hyper_params.get(\"w_indiv\")), int(hyper_params.get(\"d_indiv\"))],\n",
    "        \"num_risks\": int(y_train[1].max()),\n",
    "        \"out_features\": 1065,\n",
    "        \"batch_norm\": True,\n",
    "        \"dropout\": hyper_params.get(\"dropout\"),\n",
    "    }\n",
    "    dump(params, get_parent_dir() / f\"models_finetuned/{feature}/full_retrain/params.pkl\")\n",
    "    for i, m in enumerate(tl_models_full_retrain):\n",
    "        m.save_model_weights(get_parent_dir() / f\"models_finetuned/{feature}/full_retrain/model_{i}.pt\")\n",
    "    print(f\"Saved fine_tuned models for feature {feature}\")"
   ]
  },
  {
   "cell_type": "code",
   "execution_count": null,
   "metadata": {
    "id": "b82e475b-5d22-40b9-a01a-46a007db40fc",
    "tags": []
   },
   "outputs": [],
   "source": [
    "cifs_full_retrain = []\n",
    "for sm in tl_models_full_retrain:\n",
    "        cifs_full_retrain.append(sm.predict_cif(features_test))\n",
    "        \n",
    "cif_full_retrain = np.mean(cifs_full_retrain, dtype=np.float64, axis=0)"
   ]
  },
  {
   "cell_type": "code",
   "execution_count": null,
   "metadata": {
    "id": "a91d4b86-073c-46a5-91be-46ee615f5c4b",
    "tags": []
   },
   "outputs": [],
   "source": [
    "samples = 200\n",
    "scores_full_retrain = []\n",
    "for j in range(samples):\n",
    "    sub_test, sub_test_y_0, sub_test_y_1 = resample(\n",
    "            features_test, y_test[0], y_test[1], stratify=y_test[1],random_state=j\n",
    "        )\n",
    "    cifs_tl_full_retrain = []\n",
    "    for sm in tl_models_full_retrain:\n",
    "        cifs_tl_full_retrain.append(sm.predict_cif(sub_test))\n",
    "\n",
    "    cif_tl_full_retrain = np.mean(cifs_tl_full_retrain, dtype=np.float64, axis=0)\n",
    "    c_stat_tl_full_retrain = c_stat(\n",
    "            cif_tl_full_retrain[:, :181, :],\n",
    "            sub_test_y_0,\n",
    "            sub_test_y_1,\n",
    "            tl_models_full_retrain[0].duration_index,\n",
    "            suffix=\"test_jerry_tl_full_retrain\"\n",
    "        )\n",
    "    \n",
    "    scores_full_retrain.append(c_stat_tl_full_retrain)\n",
    "\n",
    "assert len(scores_full_retrain) == samples"
   ]
  },
  {
   "cell_type": "code",
   "execution_count": null,
   "metadata": {
    "id": "2fd26ae6-e7db-4b2a-a02d-d32b400c9e26",
    "tags": []
   },
   "outputs": [],
   "source": [
    "res_full_retrain = pd.concat([pd.DataFrame(df) for df in scores_full_retrain])\n",
    "res_full_retrain[\"feature\"] = feature"
   ]
  },
  {
   "cell_type": "code",
   "execution_count": null,
   "metadata": {
    "id": "06c9aa7c-bfea-4a8e-8a60-de275416fa09",
    "tags": []
   },
   "outputs": [],
   "source": [
    "res_full_retrain.groupby(\"feature\").agg([\"mean\", calc_ci])"
   ]
  },
  {
   "cell_type": "code",
   "execution_count": null,
   "metadata": {
    "id": "ff524adf-0e2c-46f8-b2d0-d59e6691e200",
    "tags": []
   },
   "outputs": [],
   "source": [
    "plot_calibration(cif_full_retrain[0][180, :],\n",
    "                 durations=y_test[0],\n",
    "                 events=y_test[1],\n",
    "                 feature=\"External Cohort A\",\n",
    "                 name=\"After Retraining\",\n",
    "                 save=True)"
   ]
  },
  {
   "cell_type": "markdown",
   "metadata": {
    "id": "07e9d1be-7c18-4e2f-b5f0-52d6ad8c3030",
    "tags": []
   },
   "source": [
    "## Transfer Learning Bias Only"
   ]
  },
  {
   "cell_type": "code",
   "execution_count": null,
   "metadata": {
    "id": "c02f64cb-1ade-4da6-8646-ea4f201b89f5",
    "tags": []
   },
   "outputs": [],
   "source": [
    "tl_models_bias_only = []\n",
    "n = 30\n",
    "if (get_parent_dir() / f\"models_finetuned/{feature}/bias_only\").is_dir():\n",
    "    params = load(get_parent_dir() / f\"models_finetuned/{feature}/bias_only/params.pkl\")\n",
    "    for i in range(n):\n",
    "        net = CauseSpecificNet(**params)\n",
    "        optimizer = tt.optim.AdamWR(\n",
    "            lr=.1*hyper_params[\"lr\"], decoupled_weight_decay=hyper_params[\"L2_par\"],\n",
    "                                cycle_eta_multiplier=hyper_params[\"eta_par\"]\n",
    "        )\n",
    "        tm = DeepHit(net,\n",
    "                     optimizer=optimizer,\n",
    "                     alpha=hyper_params[\"alpha_par\"],\n",
    "                     sigma=hyper_params[\"sigma_par\"],\n",
    "                     device=device,\n",
    "                     duration_index=labtrans.cuts)\n",
    "\n",
    "        tm.load_model_weights(get_parent_dir() / f\"models_finetuned/{feature}/bias_only/model_{i}.pt\")\n",
    "        tl_models_bias_only.append(tm)\n",
    "else:\n",
    "    print(\"No finetuned model found\")\n",
    "    params = load(get_parent_dir() / f\"models/{feature}/params.pkl\")\n",
    "\n",
    "    for i in range(n):\n",
    "        net = CauseSpecificNet(**params)\n",
    "        optimizer = tt.optim.AdamWR(\n",
    "            lr=hyper_params[\"lr\"], decoupled_weight_decay=hyper_params[\"L2_par\"],\n",
    "                                cycle_eta_multiplier=hyper_params[\"eta_par\"]\n",
    "        )\n",
    "        tm = DeepHit(net,\n",
    "                     optimizer=optimizer,\n",
    "                     alpha=hyper_params[\"alpha_par\"],\n",
    "                     sigma=hyper_params[\"sigma_par\"],\n",
    "                     device=device,\n",
    "                     duration_index=labtrans.cuts)\n",
    "\n",
    "        tm.load_model_weights(get_parent_dir() / f\"models/{feature}/model_{i}.pt\")\n",
    "        tl_models_bias_only.append(tm)\n",
    "\n",
    "    layers_to_tune = [\"risk_nets.0.net.2.bias\",\n",
    "                      \"risk_nets.1.net.2.bias\"\n",
    "                     ]\n",
    "\n",
    "    for m in tl_models_bias_only:\n",
    "        total_trainable_params = 0\n",
    "        total_non_trainable_params = 0\n",
    "        for name, prms in m.net.named_parameters():\n",
    "            # Freeze the parameters except the last layer\n",
    "            if name in layers_to_tune:\n",
    "                prms.requires_grad = True\n",
    "            else:\n",
    "                prms.requires_grad = False\n",
    "                \n",
    "        for param in m.net.parameters():\n",
    "            if not param.requires_grad:\n",
    "                total_non_trainable_params += param.numel()\n",
    "            else:\n",
    "                total_trainable_params += param.numel()\n",
    "        print(f\"Total Trainable params = {total_trainable_params}\\nTotal non-trainable params = {total_non_trainable_params}\")\n",
    "        log = m.fit(features_train, (y_train[0], y_train[1]), features_train.shape[1], 30, verbose=True)\n",
    "\n",
    "    print(f\"Saving models for {feature} to models_finetuned/{feature}/bias_only\")\n",
    "    Path((get_parent_dir() / f\"models_finetuned/{feature}/bias_only\")).mkdir(parents=True, exist_ok=True)\n",
    "    params = {\n",
    "        \"in_features\": features_train.shape[1],\n",
    "        \"num_nodes_shared\": [int(hyper_params.get(\"w_shared\")), int(hyper_params.get(\"d_shared\"))],\n",
    "        \"num_nodes_indiv\": [int(hyper_params.get(\"w_indiv\")), int(hyper_params.get(\"d_indiv\"))],\n",
    "        \"num_risks\": int(y_train[1].max()),\n",
    "        \"out_features\": 1065,\n",
    "        \"batch_norm\": True,\n",
    "        \"dropout\": hyper_params.get(\"dropout\"),\n",
    "    }\n",
    "    dump(params, get_parent_dir() / f\"models_finetuned/{feature}/bias_only/params.pkl\")\n",
    "    for i, m in enumerate(tl_models_bias_only):\n",
    "        m.save_model_weights(get_parent_dir() / f\"models_finetuned/{feature}/bias_only/model_{i}.pt\")\n",
    "    print(f\"Saved fine_tuned bias only models for feature {feature}\")"
   ]
  },
  {
   "cell_type": "code",
   "execution_count": null,
   "metadata": {
    "id": "2e752f3c-53eb-422f-ade6-29699aac1ded",
    "tags": []
   },
   "outputs": [],
   "source": [
    "cifs_full_bias = []\n",
    "for sm in tl_models_bias_only:\n",
    "        cifs_full_bias.append(sm.predict_cif(features_test))\n",
    "        \n",
    "cif_full_bias = np.mean(cifs_full_bias, dtype=np.float64, axis=0)"
   ]
  },
  {
   "cell_type": "code",
   "execution_count": null,
   "metadata": {
    "id": "fdd91a02-0f47-412a-98ee-0e5adfb4a147",
    "tags": []
   },
   "outputs": [],
   "source": [
    "plot_calibration(cif_full_bias[0][180, :],\n",
    "                 durations=y_test[0],\n",
    "                 events=y_test[1],\n",
    "                 feature=\"External Cohort A\",\n",
    "                 name=\"After Bias Tuning\",\n",
    "                 save=True)"
   ]
  }
 ],
 "metadata": {
  "kernelspec": {
   "display_name": "Python 3.9 + GPU",
   "language": "python",
   "name": "python3"
  },
  "language_info": {
   "codemirror_mode": {
    "name": "ipython",
    "version": 3
   },
   "file_extension": ".py",
   "mimetype": "text/x-python",
   "name": "python",
   "nbconvert_exporter": "python",
   "pygments_lexer": "ipython3",
   "version": "3.9.12"
  },
  "vscode": {
   "interpreter": {
    "hash": "4e9059d207651285723712bc3179927a0ca9672cc7b9e153909fbf37e2e2c7cf"
   }
  }
 },
 "nbformat": 4,
 "nbformat_minor": 4
}
