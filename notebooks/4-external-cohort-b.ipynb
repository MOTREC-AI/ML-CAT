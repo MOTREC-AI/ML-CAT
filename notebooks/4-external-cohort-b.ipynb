{
 "cells": [
  {
   "cell_type": "markdown",
   "metadata": {
    "id": "6274f849-0efc-45b0-9c64-abd120a30a6d",
    "tags": []
   },
   "source": [
    "## Validation: External (ONCOTHROMB 12-01)\n",
    "\n",
    "This notebook has the validation set for external cohort from Spain"
   ]
  },
  {
   "cell_type": "markdown",
   "metadata": {
    "id": "cf3cc993-ccbf-46e9-9234-b710c8370b91"
   },
   "source": [
    "References: \n",
    "\n",
    "1. Prediction error estimation: a comparison of resampling methods https://academic.oup.com/bioinformatics/article/21/15/3301/195433\n"
   ]
  },
  {
   "cell_type": "code",
   "execution_count": null,
   "metadata": {
    "id": "22fed597-387f-472f-b95c-8e679687e3a7",
    "tags": []
   },
   "outputs": [],
   "source": [
    "import os\n",
    "\n",
    "import numpy as np\n",
    "import pandas as pd\n",
    "from joblib import load\n",
    "import sys\n",
    "from pathlib import Path\n",
    "import random\n",
    "import torchtuples as tt\n",
    "import matplotlib.pyplot as plt\n",
    "import seaborn as sns\n",
    "import matplotlib\n",
    "from functools import wraps\n",
    "import lifelines\n",
    "from sklearn.utils import resample\n",
    "from sklearn.metrics import roc_auc_score\n",
    "from sklearn.model_selection import train_test_split\n",
    "\n",
    "from sklearn.experimental import enable_iterative_imputer  # noqa\n",
    "from sklearn.impute import IterativeImputer\n",
    "from sklearn.pipeline import Pipeline\n",
    "from sklearn.compose import ColumnTransformer\n",
    "from sklearn.preprocessing import OneHotEncoder\n",
    "from sklearn.preprocessing import StandardScaler, OneHotEncoder\n",
    "from lifelines.utils import concordance_index\n",
    "import torch\n",
    "\n",
    "from dotenv import load_dotenv\n",
    "load_dotenv()"
   ]
  },
  {
   "cell_type": "code",
   "execution_count": null,
   "metadata": {
    "id": "c11f06b7-05cd-4e93-b22b-865a3534be2e",
    "tags": []
   },
   "outputs": [],
   "source": [
    "seed = int(os.getenv(\"RANDOM_SEED\"))\n",
    "np.random.seed(seed)\n",
    "torch.manual_seed(seed)\n",
    "random.seed(seed)"
   ]
  },
  {
   "cell_type": "code",
   "execution_count": null,
   "metadata": {
    "id": "79816fd5-f3ee-463c-9a79-06a2ab32fc17",
    "tags": []
   },
   "outputs": [],
   "source": [
    "pd.set_option(\"max_colwidth\", None)\n",
    "pd.set_option('display.max_columns', None)\n",
    "pd.set_option('display.max_rows', None)\n",
    "\n",
    "module_path = str(Path(\"../scripts\").resolve())\n",
    "if module_path not in sys.path:\n",
    "    sys.path.append(module_path)\n",
    "\n",
    "from vte_deephit import c_stat, get_target, get_best_params, LabTransform, get_datasets\n",
    "from utils import get_parent_dir, calc_ci, plot_roc, plot_calibration, bootstrap_ci, VTEDataLoader, get_estimated_cif, plot_grouped_risks, get_pair_counts_and_vte"
   ]
  },
  {
   "cell_type": "code",
   "execution_count": null,
   "metadata": {
    "id": "30a0bf8b-c081-446e-b319-455edd7ff40f",
    "tags": []
   },
   "outputs": [],
   "source": [
    "import matplotlib\n",
    "import matplotlib.pyplot as plt\n",
    "from matplotlib import cycler\n",
    "\n",
    "color_list = [\n",
    "    \"#E64B35FF\",\n",
    "    \"#4DBBD5FF\",\n",
    "    \"#00A087FF\",\n",
    "    \"#3C5488FF\",\n",
    "    \"#F39B7FFF\",\n",
    "    \"#8491B4FF\",\n",
    "    \"#91D1C2FF\",\n",
    "    \"#DC0000FF\",\n",
    "    \"#7E6148FF\",\n",
    "    \"#B09C85FF\",\n",
    "]\n",
    "matplotlib.rcParams[\"font.family\"] = \"Arial\"\n",
    "matplotlib.rcParams[\"axes.prop_cycle\"] = cycler(color=color_list)\n",
    "plt.rcParams[\"font.size\"] = 18\n",
    "plt.rcParams[\"axes.linewidth\"] = 2"
   ]
  },
  {
   "cell_type": "markdown",
   "metadata": {
    "id": "0d89723f-85f3-47f3-b90d-ea9103a094d3",
    "jp-MarkdownHeadingCollapsed": true,
    "tags": []
   },
   "source": [
    "### Missing Analysis"
   ]
  },
  {
   "cell_type": "code",
   "execution_count": null,
   "metadata": {
    "id": "b8c74800-7045-4c16-90ff-1ccbb18ae0be",
    "tags": []
   },
   "outputs": [],
   "source": [
    "# missing_analysis_df_full_data.to_csv(get_parent_dir() / \"assets/data_asset/missing_analysis_dataset_spain_full.csv\", index=None)"
   ]
  },
  {
   "cell_type": "code",
   "execution_count": null,
   "metadata": {
    "id": "11afdca4-5814-4321-a6b1-9d3ffefa8bc9",
    "tags": []
   },
   "outputs": [],
   "source": [
    "# missing_analysis_df_missing_data.to_csv(get_parent_dir() / \"assets/data_asset/missing_analysis_dataset_spain_missing.csv\", index=None)"
   ]
  },
  {
   "cell_type": "code",
   "execution_count": null,
   "metadata": {
    "id": "6b5dd1ea-e114-49fc-8917-eac5ebfe3c93",
    "tags": []
   },
   "outputs": [],
   "source": [
    "# from sklearn.neighbors import KNeighborsRegressor\n",
    "# from sklearn.impute import SimpleImputer\n",
    "# def rmse(y_true, y_pred):\n",
    "#     return np.sqrt(mean_squared_error(y_true, y_pred))\n",
    "\n",
    "\n",
    "# def missing_analysis():\n",
    "#     full_data = pd.read_csv(get_parent_dir() / \"assets/data_asset/missing_analysis_dataset_spain_full.csv\")\n",
    "#     missing_data = pd.read_csv(get_parent_dir() / \"assets/data_asset/missing_analysis_dataset_spain_missing.csv\")\n",
    "#     NUMERICAL_COLS=[\"AGE\", \"DX_delta\", \"ALBUMIN\", \"HB\", \"CREATININE\", \"TBILI\", \"ALKPHOS\", \"WBC\", \"PLT\"]\n",
    "#     other_cols = [\"SEX\", \"CANCER_TYPE_FINAL\", \"SAMPLE_TYPE\", \"EVENT\", \"OBS_TIME\", \"KS\", \"HAD_CHEMO\"]\n",
    "#     encoder = OneHotEncoder(sparse=False, drop=\"first\")\n",
    "#     one_hot_encoded = encoder.fit_transform(missing_data[[\"SEX\", \"CANCER_TYPE_FINAL\", \"SAMPLE_TYPE\"]])\n",
    "#     one_hot_col_names = encoder.get_feature_names_out([\"SEX\", \"CANCER_TYPE_FINAL\", \"SAMPLE_TYPE\"])\n",
    "#     one_hot_df = pd.DataFrame(one_hot_encoded, columns=one_hot_col_names, index=missing_data.index)\n",
    "#     res = pd.concat([missing_data[NUMERICAL_COLS + ['HAD_CHEMO']], one_hot_df], axis=1)\n",
    "#     imputers = [\n",
    "#                 SimpleImputer(strategy=\"mean\"),\n",
    "#                 IterativeImputer(random_state=42, verbose=True, tol=1e-3),\n",
    "#                 IterativeImputer(estimator=KNeighborsRegressor(), random_state=42),\n",
    "#                 IterativeImputer(estimator=LinearRegression(), random_state=42, verbose=True, max_iter=100, tol=1e-3),\n",
    "#                 IterativeImputer(estimator=RandomForestRegressor(), random_state=42, verbose=True, max_iter=10, tol=1e-3),\n",
    "#                 IterativeImputer(estimator=ExtraTreesRegressor(), random_state=42, verbose=True, max_iter=10, tol=1e-3),\n",
    "#                 KNNImputer()\n",
    "#                ]\n",
    "#     results = []\n",
    "#     for imputer in imputers:\n",
    "#         print(imputer)\n",
    "#         # iterative_imputer = IterativeImputer(random_state=42, verbose=True, tol=1e-5)\n",
    "#         imputed = pd.DataFrame(imputer.fit_transform(res),\n",
    "#                                     columns=imputer.get_feature_names_out())\n",
    "    \n",
    "#         rmses = {}\n",
    "#         for col in [\"ALBUMIN\", \"HB\", \"CREATININE\", \"TBILI\", \"ALKPHOS\"]:\n",
    "#             rmses[col] = rmse(full_data[col], imputed[col])\n",
    "#         results.append({imputer: rmses})\n",
    "#     print(results)\n",
    "#     return results"
   ]
  },
  {
   "cell_type": "code",
   "execution_count": null,
   "metadata": {
    "id": "91e10dc1-c86f-410d-a5e1-0b210da47724",
    "tags": []
   },
   "outputs": [],
   "source": [
    "# results = missing_analysis()"
   ]
  },
  {
   "cell_type": "code",
   "execution_count": null,
   "metadata": {
    "id": "e78510aa-a761-4770-8f2d-527a5b920a7a",
    "tags": []
   },
   "outputs": [],
   "source": [
    "results[0].keys()"
   ]
  },
  {
   "cell_type": "code",
   "execution_count": null,
   "metadata": {
    "id": "caf878c4-3f2c-450b-af6b-01bfbb2e8aa4",
    "tags": []
   },
   "outputs": [],
   "source": [
    "imputer_names = [str(type(imputer)).split(\".\")[-1].strip(\"'>\") for d in results for imputer in d.keys()]\n",
    "scores = [list(d.values())[0] for d in results]\n",
    "\n",
    "# Create a DataFrame\n",
    "df = pd.DataFrame(scores, index=imputer_names)\n",
    "df.index.name = \"Imputer\"\n",
    "print(df)"
   ]
  },
  {
   "cell_type": "code",
   "execution_count": null,
   "metadata": {
    "id": "b19182a3-6f02-44ae-8abb-881a32487330"
   },
   "outputs": [],
   "source": []
  },
  {
   "cell_type": "code",
   "execution_count": null,
   "metadata": {
    "id": "b9d4db62-189e-4906-9c41-eaf6c080c3cd"
   },
   "outputs": [],
   "source": [
    "MICE:             0.329602   0     0.089131  0.24065   53.55933 \n"
   ]
  },
  {
   "cell_type": "code",
   "execution_count": null,
   "metadata": {
    "id": "e84cd57b-d852-4747-bc35-9aed9669c95c",
    "tags": []
   },
   "outputs": [],
   "source": [
    "# Impute data using IterativeImputer\n",
    "iterative_imputer = IterativeImputer(random_state=42, verbose=True, tol=1e-5)\n",
    "iris_imputed_iterative = pd.DataFrame(iterative_imputer.fit_transform(iris_missing),\n",
    "                            columns=iterative_imputer.get_feature_names_out())\n",
    "\n",
    "# Impute data using LinearRegressionEstimator\n",
    "knn_estimator = LinearRegression()\n",
    "ii_1 =  IterativeImputer(estimator=knn_estimator, random_state=42, verbose=True, max_iter=100, tol=1e-5)\n",
    "iris_imputed_ii_1 = pd.DataFrame(ii_1.fit_transform(iris_missing),\n",
    "                            columns=ii_1.get_feature_names_out())\n",
    "\n",
    "\n",
    "# Impute data using LinearRegressionEstimator\n",
    "rf_estimator = RandomForestRegressor()\n",
    "ii_2 =  IterativeImputer(estimator=rf_estimator, random_state=42, verbose=True, max_iter=10, tol=1e-5)\n",
    "iris_imputed_ii_2 = pd.DataFrame(ii_2.fit_transform(iris_missing),\n",
    "                            columns=ii_2.get_feature_names_out())\n",
    "\n",
    "\n",
    "etr_estimator = ExtraTreesRegressor()\n",
    "ii_3 =  IterativeImputer(estimator=etr_estimator, random_state=42, verbose=True, max_iter=10, tol=1e-5)\n",
    "iris_imputed_ii_3 = pd.DataFrame(ii_3.fit_transform(iris_missing),\n",
    "                            columns=ii_3.get_feature_names_out())\n",
    "\n",
    "# Impute data using KNNImputer\n",
    "knn_imputer = \n",
    "KNNImputer()\n",
    "iris_imputed_knn = pd.DataFrame(knn_imputer.fit_transform(iris_missing),\n",
    "                            columns=knn_imputer.get_feature_names_out())\n",
    "\n",
    "\n",
    "# rmse_by_column = {}\n",
    "# for col in res.columns:\n",
    "#     rmse_by_column[col] = rmse(res[col], iris_imputed_iterative[col])\n",
    "\n",
    "# # Print the RMSE values by column\n",
    "# for col, rmse_value in rmse_by_column.items():\n",
    "#     print(f\"RMSE for {col}: {rmse_value}\")\n",
    "    \n",
    "# rmse_by_column = {}\n",
    "# for col in res.columns:\n",
    "#     rmse_by_column[col] = rmse(res[col], iris_imputed_knn[col])\n",
    "\n",
    "# # Print the RMSE values by column\n",
    "# for col, rmse_value in rmse_by_column.items():\n",
    "#     print(f\"RMSE for {col}: {rmse_value}\")\n",
    "    \n",
    "# Calculate RMSE for each imputation method\n",
    "rmse_iterative = rmse(res, iris_imputed_iterative)\n",
    "rmse_ii_1 = rmse(res, iris_imputed_ii_1)\n",
    "rmse_ii_2 = rmse(res, iris_imputed_ii_2)\n",
    "rmse_ii_3 = rmse(res, iris_imputed_ii_3)\n",
    "rmse_knn = rmse(res, iris_imputed_knn)\n",
    "\n",
    "\n",
    "# Print the RMSE values\n",
    "print(\"RMSE for Iterative Imputer: \", rmse_iterative)\n",
    "print(\"RMSE for Iterative Imputer 1: \", rmse_ii_1)\n",
    "print(\"RMSE for Iterative Imputer 2: \", rmse_ii_2)\n",
    "print(\"RMSE for Iterative Imputer 3: \", rmse_ii_3)\n",
    "print(\"RMSE for KNN Imputer: \", rmse_knn)"
   ]
  },
  {
   "cell_type": "code",
   "execution_count": null,
   "metadata": {
    "id": "5d578110-69b1-479b-be1d-aa10d9c7afef",
    "tags": []
   },
   "outputs": [],
   "source": [
    "rmse_by_column = {}\n",
    "for col in res.columns:\n",
    "    rmse_by_column[col] = rmse(res[col], iris_imputed_ii_1[col])\n",
    "\n",
    "# Print the RMSE values by column\n",
    "for col, rmse_value in rmse_by_column.items():\n",
    "    print(f\"RMSE for {col}: {rmse_value}\")\n",
    "    \n",
    "rmse_by_column = {}\n",
    "for col in res.columns:\n",
    "    rmse_by_column[col] = rmse(res[col], iris_imputed_ii_3[col])\n",
    "\n",
    "# Print the RMSE values by column\n",
    "for col, rmse_value in rmse_by_column.items():\n",
    "    print(f\"RMSE for {col}: {rmse_value}\")"
   ]
  },
  {
   "cell_type": "markdown",
   "metadata": {
    "id": "6cc3731b-4e1b-41c0-9b2d-24c8db3d2efd"
   },
   "source": [
    "### Main Analysis"
   ]
  },
  {
   "cell_type": "code",
   "execution_count": null,
   "metadata": {
    "id": "0614de93-a77c-4e10-acd6-1e5efbff47e2",
    "tags": []
   },
   "outputs": [],
   "source": [
    "# !pip install  scikit-learn==1.1.3"
   ]
  },
  {
   "cell_type": "code",
   "execution_count": null,
   "metadata": {
    "id": "71d6f1df-330d-404d-b1fa-3df56401a0fb",
    "tags": []
   },
   "outputs": [],
   "source": [
    "def logg(func):\n",
    "    @wraps(func)\n",
    "    def wrapper(df, *args, **kwargs):\n",
    "        print(df.shape)\n",
    "        result = func(df, *args, **kwargs)\n",
    "        print(result.shape)\n",
    "        return result\n",
    "    return wrapper"
   ]
  },
  {
   "cell_type": "code",
   "execution_count": null,
   "metadata": {
    "id": "a66d1a2d-f0be-4fe5-aa5d-6f65bca9647a",
    "tags": []
   },
   "outputs": [],
   "source": [
    "@logg\n",
    "def copy_df(df):\n",
    "    return df.copy()\n",
    "\n",
    "@logg\n",
    "def clean_spain(df):\n",
    "    df = df.dropna(axis=0, subset=[\"OBS_TIME\"])\n",
    "    df = df[(df.OBS_TIME < 1065) & (df.OBS_TIME > 0)]\n",
    "    df[\"PLT\"] = df[\"PLT\"] / 1000\n",
    "    df[\"WBC\"] = df[\"WBC\"] / 1000\n",
    "    return df\n",
    "\n",
    "@logg\n",
    "def add_test_columns(df):\n",
    "    df[\"EVENT_6\"] = np.where(df.OBS_TIME <= 180, df.EVENT, 0)\n",
    "    df[\"OBS_TIME_6\"] = np.where(df.OBS_TIME <= 180, df.OBS_TIME, 180)\n",
    "    assert (df.EVENT == 0).sum() < (df.EVENT_6 == 0).sum(), \"more patients should get censored at 6 months\"\n",
    "    assert df.OBS_TIME_6.max() <= 180, \"max observed for test must be 180 days\"\n",
    "    return df\n",
    "\n",
    "@logg\n",
    "def remove_missing(df):\n",
    "    df = df.dropna(axis=0, subset=[\"ALBUMIN\"])\n",
    "    return df\n",
    "\n",
    "@logg\n",
    "def only_deep_vte(df):\n",
    "    \"Only deep venous thromboembolism events\"\n",
    "    locations_to_ignore = [6, 8.0, 7.0, 3.0, 5.0]\n",
    "    locations = [2, 2.7, 4, 4.6]\n",
    "    df = df[(df.EVENT!=1) | ((df.EVENT==1) & ((df.vte_location1.isin(locations)) | (df.vte_location2.isin(locations)) | (df.vte_location3.isin(locations))))]\n",
    "    return df"
   ]
  },
  {
   "cell_type": "code",
   "execution_count": null,
   "metadata": {
    "id": "349af3b8-1f46-4283-b45b-0f6a425d8cc2",
    "tags": []
   },
   "outputs": [],
   "source": [
    "# since the external cohort's variable set do not match\n",
    "# any varible set in our list of variable set - we trained an the feature set\n",
    "# availble in the external cohort\n",
    "feature = \"ext_spain\"\n",
    "\n",
    "test_cohort_data = pd.read_csv(\n",
    "    get_parent_dir() / os.getenv(\"DATA_DIR\") / os.getenv(feature.upper())\n",
    ")"
   ]
  },
  {
   "cell_type": "code",
   "execution_count": null,
   "metadata": {
    "id": "2e5c3e7d-fc6b-4c2e-ab9b-772919ff9b7c",
    "tags": []
   },
   "outputs": [],
   "source": [
    "test_cohort_data.head()"
   ]
  },
  {
   "cell_type": "code",
   "execution_count": null,
   "metadata": {
    "id": "3364c0f5-fc3e-481d-93a9-2439305a1f14",
    "tags": []
   },
   "outputs": [],
   "source": [
    "spain_dt = test_cohort_data.pipe(copy_df).pipe(add_test_columns)"
   ]
  },
  {
   "cell_type": "code",
   "execution_count": null,
   "metadata": {
    "id": "9c3db70c-4405-4943-8333-277c1a59248d",
    "tags": []
   },
   "outputs": [],
   "source": [
    "# c-index on all patients at 6 months\n",
    "lower, upper, mean, _ = bootstrap_ci(spain_dt, concordance_index, \"EVENT_6\", \"KS\", \"OBS_TIME_6\")\n",
    "\n",
    "print(f\"{mean} ({lower}, {upper})\")"
   ]
  },
  {
   "cell_type": "code",
   "execution_count": null,
   "metadata": {
    "id": "a49c6d73-57d5-4fee-b280-ed1eee720652",
    "tags": []
   },
   "outputs": [],
   "source": [
    "compare = test_cohort_data.pipe(copy_df).pipe(clean_spain).pipe(add_test_columns)"
   ]
  },
  {
   "cell_type": "code",
   "execution_count": null,
   "metadata": {
    "id": "4ea54288-c1cd-426a-ab7f-94651624e050",
    "tags": []
   },
   "outputs": [],
   "source": [
    "lower, upper, mean, _ = bootstrap_ci(compare, concordance_index, \"EVENT_6\", \"KS\", \"OBS_TIME_6\")\n",
    "\n",
    "print(f\"{mean} ({lower}, {upper})\")"
   ]
  },
  {
   "cell_type": "code",
   "execution_count": null,
   "metadata": {
    "id": "f7123ad6-e25a-4c84-9856-ebecb0057ed9",
    "tags": []
   },
   "outputs": [],
   "source": [
    "spain_data = test_cohort_data.pipe(copy_df).pipe(clean_spain).pipe(add_test_columns)\n"
   ]
  },
  {
   "cell_type": "code",
   "execution_count": null,
   "metadata": {
    "id": "7031a750-c1f2-4a56-9933-109db45e482c",
    "tags": []
   },
   "outputs": [],
   "source": [
    "spain_data.ALBUMIN.describe()"
   ]
  },
  {
   "cell_type": "code",
   "execution_count": null,
   "metadata": {
    "id": "e31ac6d8-db9b-4fdf-8859-b79c797f5413",
    "tags": []
   },
   "outputs": [],
   "source": [
    "spain_data.EVENT.value_counts()"
   ]
  },
  {
   "cell_type": "code",
   "execution_count": null,
   "metadata": {
    "id": "ab8cdf95-9e1f-4ef9-8e50-26b1d0dfdb9d",
    "tags": []
   },
   "outputs": [],
   "source": [
    "lower, upper, mean, _ = bootstrap_ci(spain_data, concordance_index, \"EVENT_6\", \"KS\", \"OBS_TIME_6\")\n",
    "print(f\"{mean} ({lower}, {upper})\")"
   ]
  },
  {
   "cell_type": "code",
   "execution_count": null,
   "metadata": {
    "id": "591e8761-0a2d-4179-b7d9-df194106ab11",
    "tags": []
   },
   "outputs": [],
   "source": [
    "plot_roc(spain_data, \"KS\", \"EVENT_6\")"
   ]
  },
  {
   "cell_type": "code",
   "execution_count": null,
   "metadata": {
    "id": "88a6ab1b-d0f5-428b-ae51-81a9e15c2934",
    "tags": []
   },
   "outputs": [],
   "source": [
    "spain_data[\"EVENT\"].value_counts()"
   ]
  },
  {
   "cell_type": "code",
   "execution_count": null,
   "metadata": {
    "id": "88b800c7-319b-4991-afd2-5b5f2df140fe",
    "tags": []
   },
   "outputs": [],
   "source": [
    "sns.histplot(spain_data[\"OBS_TIME\"])"
   ]
  },
  {
   "cell_type": "code",
   "execution_count": null,
   "metadata": {
    "id": "d54ff74e-7386-4bd9-97a1-c5a06d30f97b",
    "tags": []
   },
   "outputs": [],
   "source": [
    "num_durations = int(max(spain_data[\"OBS_TIME\"])) + 1  # for cut-points\n",
    "# num_durations = np.arange(0, float(spain_data[\"OBS_TIME\"].max()), 30)\n",
    "labtrans = LabTransform(num_durations)\n",
    "# labtrans_6 = LabTransform(np.arange(0, 181.0, 30))\n",
    "labtrans_6 = LabTransform(181)"
   ]
  },
  {
   "cell_type": "code",
   "execution_count": null,
   "metadata": {
    "id": "766e861c-1a29-44aa-bd39-86f329be90c2",
    "tags": []
   },
   "outputs": [],
   "source": [
    "y = pd.DataFrame({\"event\": spain_data.EVENT_6, \"times\": spain_data.OBS_TIME_6})\n",
    "event_type = int\n",
    "y = np.array(\n",
    "    [tuple(a) for a in y.values],\n",
    "    dtype=list(zip(y.dtypes.index, [event_type, int])),\n",
    ")\n",
    "\n",
    "y = labtrans_6.fit_transform(*get_target(y))"
   ]
  },
  {
   "cell_type": "code",
   "execution_count": null,
   "metadata": {
    "id": "ed6b8dc7-c69a-45b2-befd-8e0684e52c51",
    "tags": []
   },
   "outputs": [],
   "source": [
    "transformation_pipeline = load(\n",
    "    get_parent_dir() / f\"models/{feature}/preprocessing_fit.joblib\"\n",
    ")\n",
    "\n",
    "features_full = transformation_pipeline.transform(spain_data).astype('float32')\n",
    "# features_full = transformation_pipeline.transform(spain_data_num_imputed).astype('float32')"
   ]
  },
  {
   "cell_type": "code",
   "execution_count": null,
   "metadata": {
    "id": "c5032d11-8e48-41d7-8b5a-c397ee58aeb7",
    "tags": []
   },
   "outputs": [],
   "source": [
    "features_full.shape"
   ]
  },
  {
   "cell_type": "code",
   "execution_count": null,
   "metadata": {
    "id": "a7505dec-dce6-434a-85ec-8a783c72d2d5",
    "tags": []
   },
   "outputs": [],
   "source": [
    "transformation_pipeline.get_feature_names_out()"
   ]
  },
  {
   "cell_type": "code",
   "execution_count": null,
   "metadata": {
    "id": "b3d66563-f980-463a-899e-552a8d1271f9",
    "tags": []
   },
   "outputs": [],
   "source": [
    "spain_data[[\"AGE\", \"ALBUMIN\", \"CANCER_TYPE_FINAL\"]].head()"
   ]
  },
  {
   "cell_type": "code",
   "execution_count": null,
   "metadata": {
    "id": "b78b07b2-c0ff-4a8e-a19f-a3ddc2e0ec0c",
    "tags": []
   },
   "outputs": [],
   "source": [
    "imputed = pd.DataFrame(features_full, columns=transformation_pipeline.get_feature_names_out())"
   ]
  },
  {
   "cell_type": "code",
   "execution_count": null,
   "metadata": {
    "id": "18023b2d-e025-4eb3-895d-7b08efcccfde",
    "tags": []
   },
   "outputs": [],
   "source": [
    "imputed.head()"
   ]
  },
  {
   "cell_type": "code",
   "execution_count": null,
   "metadata": {
    "id": "e70b06ef-a95b-4765-8ea3-92dd3b3da00d",
    "tags": []
   },
   "outputs": [],
   "source": [
    "spain_data.HB.describe()"
   ]
  },
  {
   "cell_type": "code",
   "execution_count": null,
   "metadata": {
    "id": "fa0ba734-8b40-4eab-a7e5-68ac626725a3",
    "tags": []
   },
   "outputs": [],
   "source": [
    "hyper_params = get_best_params(feature)"
   ]
  },
  {
   "cell_type": "code",
   "execution_count": null,
   "metadata": {
    "id": "35458b0f-9cfc-493f-9b76-e3d139d4ecea",
    "tags": []
   },
   "outputs": [],
   "source": [
    "hyper_params"
   ]
  },
  {
   "cell_type": "code",
   "execution_count": null,
   "metadata": {
    "id": "459861e8-fc89-4953-b4ab-cdab11c55813",
    "tags": []
   },
   "outputs": [],
   "source": [
    "labtrans_6.cuts"
   ]
  },
  {
   "cell_type": "code",
   "execution_count": null,
   "metadata": {
    "id": "ea8993fe-eef4-450a-a1d2-56a486f963ee",
    "tags": []
   },
   "outputs": [],
   "source": [
    "import torch\n",
    "from pycox.models import DeepHit\n",
    "from vte_deephit import CauseSpecificNet\n",
    "\n",
    "if torch.cuda.is_available():\n",
    "    device = \"cuda:0\"\n",
    "else:\n",
    "    device = \"cpu\"\n",
    "\n",
    "print(device)\n",
    "n = 30\n",
    "\n",
    "params = load(get_parent_dir() / f\"models/{feature}/params.pkl\")\n",
    "models = []\n",
    "optimizer = tt.optim.AdamWR(\n",
    "    lr=.1*hyper_params[\"lr\"],\n",
    "    decoupled_weight_decay=hyper_params[\"L2_par\"],\n",
    "    cycle_eta_multiplier=hyper_params[\"eta_par\"]\n",
    ")\n",
    "for i in range(n):\n",
    "    net = CauseSpecificNet(**params)\n",
    "    m = DeepHit(net,\n",
    "                optimizer=optimizer,\n",
    "                alpha=hyper_params[\"alpha_par\"],\n",
    "                sigma=hyper_params[\"sigma_par\"],\n",
    "                device=device,\n",
    "                duration_index=labtrans.cuts)\n",
    "    m.load_model_weights(get_parent_dir() / f\"models/{feature}/model_{i}.pt\")\n",
    "    # m.net.eval()\n",
    "    models.append(m)\n",
    "\n",
    "cifs_full = []\n",
    "\n",
    "for sm in models:\n",
    "    cifs_full.append(sm.predict_cif(features_full))\n",
    "\n",
    "cif_full = np.mean(cifs_full, dtype=np.float64, axis=0)\n",
    "c_stat_test_full = c_stat(\n",
    "    cif_full[:, :181, :], y[0], y[1], labtrans_6.cuts, suffix=\"ext_spain_full_ks\",\n",
    ")\n",
    "c_stat_test_full"
   ]
  },
  {
   "cell_type": "code",
   "execution_count": null,
   "metadata": {
    "id": "ffa2a484-05b4-4709-bff1-c7d58c80aff4",
    "tags": []
   },
   "outputs": [],
   "source": [
    "samples = 1000\n",
    "scores = []\n",
    "for j in range(samples):\n",
    "    sub_test, sub_test_y_0, sub_test_y_1 = resample(\n",
    "            features_full, y[0], y[1], stratify=y[1],random_state=j\n",
    "        )\n",
    "\n",
    "    cifs_non_tl = []\n",
    "    for sm in models:\n",
    "        cifs_non_tl.append(sm.predict_cif(sub_test))\n",
    "\n",
    "    cif_non_tl = np.mean(cifs_non_tl, dtype=np.float64, axis=0)\n",
    "    cstat = c_stat(\n",
    "            cif_non_tl[:, :181, :],\n",
    "            sub_test_y_0,\n",
    "            sub_test_y_1,\n",
    "            models[0].duration_index,\n",
    "            suffix=\"test_onco_no_miss_wo_tl\"\n",
    "        )\n",
    "\n",
    "    scores.append(cstat)\n",
    "\n",
    "assert len(scores) == samples"
   ]
  },
  {
   "cell_type": "code",
   "execution_count": null,
   "metadata": {
    "id": "d8d27df6-70ae-42c3-b1fd-3e9c3a0c7e4e",
    "tags": []
   },
   "outputs": [],
   "source": [
    "res = pd.concat([pd.DataFrame(df) for df in scores])\n",
    "res[\"feature\"] = feature"
   ]
  },
  {
   "cell_type": "code",
   "execution_count": null,
   "metadata": {
    "id": "a656adef-3924-4f2e-94a2-b4cd076bf1f2",
    "tags": []
   },
   "outputs": [],
   "source": [
    "res.groupby(\"feature\").agg([\"mean\", calc_ci]).to_csv(\"oncothromb_c_index.csv\")"
   ]
  },
  {
   "cell_type": "code",
   "execution_count": null,
   "metadata": {
    "id": "54f52f78-4a0d-4a86-9b40-8f4e641ef3d6",
    "tags": []
   },
   "outputs": [],
   "source": [
    "res.groupby(\"feature\").agg([\"mean\", calc_ci])"
   ]
  },
  {
   "cell_type": "markdown",
   "metadata": {
    "id": "b9212609-a9c3-4472-9934-fcfe104f792d",
    "jp-MarkdownHeadingCollapsed": true,
    "tags": []
   },
   "source": [
    "## transfer learning"
   ]
  },
  {
   "cell_type": "code",
   "execution_count": null,
   "metadata": {
    "id": "865c0662-2549-4329-b449-bf91e357431e",
    "tags": []
   },
   "outputs": [],
   "source": [
    "from sklearn.model_selection import StratifiedKFold"
   ]
  },
  {
   "cell_type": "code",
   "execution_count": null,
   "metadata": {
    "id": "b5a1e1ec-c4ee-4402-b5c0-6c207c040e65",
    "tags": []
   },
   "outputs": [],
   "source": [
    "params"
   ]
  },
  {
   "cell_type": "code",
   "execution_count": null,
   "metadata": {
    "id": "2c52dbb3-ac25-4b96-b3e9-f70e2740b1b7",
    "tags": []
   },
   "outputs": [],
   "source": [
    "spain_data.OBS_TIME.describe()"
   ]
  },
  {
   "cell_type": "code",
   "execution_count": null,
   "metadata": {
    "id": "a65b9d29-312c-49ca-b362-bed6ff56f15b",
    "tags": []
   },
   "outputs": [],
   "source": [
    "spain_data.OBS_TIME_6.describe()"
   ]
  },
  {
   "cell_type": "code",
   "execution_count": null,
   "metadata": {
    "id": "ec5857ca-db8b-48c0-a312-72685544b562",
    "tags": []
   },
   "outputs": [],
   "source": [
    "spain_data.head()"
   ]
  },
  {
   "cell_type": "code",
   "execution_count": null,
   "metadata": {
    "id": "5dc2534c-9d52-4dd4-b982-032de722cedb",
    "tags": []
   },
   "outputs": [],
   "source": [
    "spain_data.EVENT.value_counts()"
   ]
  },
  {
   "cell_type": "code",
   "execution_count": null,
   "metadata": {
    "id": "13626c6c-d62e-4e44-926e-ec68699fe7e1",
    "tags": []
   },
   "outputs": [],
   "source": [
    "params"
   ]
  },
  {
   "cell_type": "code",
   "execution_count": null,
   "metadata": {
    "id": "90ac5a84-f9a1-4f41-b7b4-81ee4540cd18",
    "tags": []
   },
   "outputs": [],
   "source": [
    "tl_models[0].net"
   ]
  },
  {
   "cell_type": "code",
   "execution_count": null,
   "metadata": {
    "id": "b745d25b-a823-4804-ae8d-4221358586c8",
    "tags": []
   },
   "outputs": [],
   "source": [
    "params = load(get_parent_dir() / f\"models/{feature}/params.pkl\")\n",
    "n = 30\n",
    "lr = hyper_params[\"lr\"]  # factor applied in training\n",
    "\n",
    "for k in range(2):\n",
    "from sklearn.model_selection import LeaveOneOut\n",
    "skf = StratifiedKFold(n_splits=10, shuffle=True, random_state=42)\n",
    "cifs = None\n",
    "cifs_non_tl = None\n",
    "risk_cif_tl = []\n",
    "risk_cif_non_tl = []\n",
    "indices = []\n",
    "debug=True\n",
    "test_sets = []\n",
    "scores = []\n",
    "for i, (train_index, test_index) in enumerate(skf.split(spain_data, spain_data.EVENT)):\n",
    "    print(f\"Fold {i}\")\n",
    "    train = spain_data.iloc[train_index]\n",
    "    test = spain_data.iloc[test_index]\n",
    "    test_sets.append(test)\n",
    "    print(len(train))\n",
    "    print(len(test))\n",
    "\n",
    "    y_train = pd.DataFrame({\"event\": train.EVENT, \"times\": train.OBS_TIME})\n",
    "    y_train = np.array(\n",
    "        [tuple(a) for a in y_train.values],\n",
    "        dtype=list(zip(y_train.dtypes.index, [event_type, int])),\n",
    "    )\n",
    "\n",
    "    labtrans = LabTransform(num_durations)\n",
    "    y_train = labtrans.fit_transform(*get_target(y_train))\n",
    "\n",
    "    y_test = pd.DataFrame({\"event\": test.EVENT_6, \"times\": test.OBS_TIME_6})\n",
    "    y_test = np.array(\n",
    "        [tuple(a) for a in y_test.values],\n",
    "        dtype=list(zip(y_test.dtypes.index, [event_type, int])),\n",
    "    )\n",
    "    y_test = labtrans.transform(*get_target(y_test))\n",
    "    \n",
    "    transformation_pipeline = load(\n",
    "        get_parent_dir() / f\"models/{feature}/preprocessing_fit.joblib\"\n",
    "    )\n",
    "\n",
    "    feature_train = transformation_pipeline.transform(train).astype(\"float32\")\n",
    "    feature_test = transformation_pipeline.transform(test).astype(\"float32\")\n",
    "\n",
    "    tl_models = []\n",
    "    for i in range(n):\n",
    "        net = CauseSpecificNet(**params)\n",
    "        optimizer = tt.optim.AdamWR(\n",
    "            lr=0.1*lr,\n",
    "            decoupled_weight_decay=hyper_params[\"L2_par\"],\n",
    "            cycle_eta_multiplier=hyper_params[\"eta_par\"]\n",
    "        )\n",
    "        tm = DeepHit(net,\n",
    "                     optimizer,\n",
    "                     alpha=hyper_params[\"alpha_par\"],\n",
    "                     sigma=hyper_params[\"sigma_par\"],\n",
    "                     duration_index=labtrans.cuts)\n",
    "        tm.load_model_weights(get_parent_dir() / f\"models/{feature}/model_{i}.pt\")\n",
    "        tl_models.append(tm)\n",
    "\n",
    "    # shared_net.net.0.linear.weight\n",
    "    # shared_net.net.0.linear.bias\n",
    "    # shared_net.net.0.batch_norm.weight\n",
    "    # shared_net.net.0.batch_norm.bias\n",
    "    # shared_net.net.1.weight\n",
    "    # shared_net.net.1.bias\n",
    "    # risk_nets.0.net.0.linear.weight\n",
    "    # risk_nets.0.net.0.linear.bias\n",
    "    # risk_nets.0.net.0.batch_norm.weight\n",
    "    # risk_nets.0.net.0.batch_norm.bias\n",
    "    # risk_nets.0.net.1.linear.weight\n",
    "    # risk_nets.0.net.1.linear.bias\n",
    "    # risk_nets.0.net.1.batch_norm.weight\n",
    "    # risk_nets.0.net.1.batch_norm.bias\n",
    "    # risk_nets.0.net.2.weight\n",
    "    # risk_nets.0.net.2.bias\n",
    "    # risk_nets.1.net.0.linear.weight\n",
    "    # risk_nets.1.net.0.linear.bias\n",
    "    # risk_nets.1.net.0.batch_norm.weight\n",
    "    # risk_nets.1.net.0.batch_norm.bias\n",
    "    # risk_nets.1.net.1.linear.weight\n",
    "    # risk_nets.1.net.1.linear.bias\n",
    "    # risk_nets.1.net.1.batch_norm.weight\n",
    "    # risk_nets.1.net.1.batch_norm.bias\n",
    "    # risk_nets.1.net.2.weight\n",
    "    # risk_nets.1.net.2.bias\n",
    "    layers_to_tune = [\n",
    "                      \"risk_nets.0.net.2.weight\",\n",
    "                      \"risk_nets.0.net.2.bias\",\n",
    "                      \"risk_nets.1.net.2.weight\",\n",
    "                      \"risk_nets.1.net.2.bias\",\n",
    "                      # \"shared_net.net.0.linear.weight\",\n",
    "                      # \"shared_net.net.0.linear.bias\",\n",
    "                      \"shared_net.net.1.weight\",\n",
    "                      \"shared_net.net.1.bias\",\n",
    "                      \"risk_nets.0.net.1.linear.weight\",\n",
    "                      \"risk_nets.0.net.1.linear.bias\",\n",
    "                      \"risk_nets.1.net.1.linear.weight\",\n",
    "                      \"risk_nets.1.net.1.linear.bias\"\n",
    "                     ]\n",
    "\n",
    "    print(f\"Models loaded: {len(tl_models)}\")\n",
    "    cifs_tl = []\n",
    "\n",
    "    for tm in tl_models:\n",
    "        for name, prms in tm.net.named_parameters():\n",
    "            if name in layers_to_tune:\n",
    "                # print(f\"Tuning layers: {name}\"\n",
    "                prms.requires_grad = True\n",
    "            else:\n",
    "                prms.requires_grad = False\n",
    "\n",
    "        total_non_trainable_params = 0\n",
    "        total_trainable_params = 0\n",
    "        for param in tm.net.parameters():\n",
    "            if not param.requires_grad:\n",
    "                total_non_trainable_params += param.numel()\n",
    "            else:\n",
    "                total_trainable_params += param.numel()\n",
    "\n",
    "        log = tm.fit(feature_train,\n",
    "                     (y_train[0], y_train[1]),\n",
    "                     spain_data.shape[0],\n",
    "                     30,\n",
    "                     verbose=False)\n",
    "        cifs_tl.append(tm.predict_cif(feature_test))\n",
    "        if debug:\n",
    "            print(f\"Total Trainable params = {total_trainable_params}\\nTotal non-trainable params = {total_non_trainable_params}\")\n",
    "            debug=False\n",
    "\n",
    "    cif_tl = np.mean(cifs_tl, dtype=np.float64, axis=0)\n",
    "    # if cifs is not None:\n",
    "    #     cifs = np.append(cifs, cif_tl, axis=2)\n",
    "    # else:\n",
    "    #     cifs = cif_tl\n",
    "    print(cif_tl.shape)\n",
    "    # indices += list(test_index)\n",
    "    # risk_at_180 = cif_tl[0][181, :]\n",
    "    # risk_cif_tl += list(risk_at_180)\n",
    "\n",
    "    ss_cifs_non_tl = []\n",
    "    for sm in models:\n",
    "        ss_cifs_non_tl.append(sm.predict_cif(feature_test))\n",
    "\n",
    "    ss_cif_non_tl = np.mean(ss_cifs_non_tl, dtype=np.float64, axis=0)\n",
    "    # if cifs_non_tl is not None:\n",
    "    #     cifs_non_tl = np.append(cifs_non_tl, ss_cif_non_tl, axis=2)\n",
    "    # else:\n",
    "    #     cifs_non_tl = ss_cif_non_tl\n",
    "    # risk_at_180_non_tl = ss_cif_non_tl[0][181, :]\n",
    "    # risk_cif_non_tl += list(risk_at_180_non_tl)\n",
    "    cstat = c_stat(\n",
    "            cif_tl[:, :181, :],\n",
    "            y_test[0],\n",
    "            y_test[1],\n",
    "            labtrans.cuts[:181],\n",
    "            suffix=\"test_spain_tl_ks\",\n",
    "        )\n",
    "\n",
    "    cstat.update(c_stat(\n",
    "                ss_cif_non_tl[:, :181, :],\n",
    "                y_test[0],\n",
    "                y_test[1],\n",
    "                labtrans.cuts[:181],\n",
    "                suffix=\"test_spain_non_tl_ks\"))\n",
    "    scores.append(cstat)"
   ]
  },
  {
   "cell_type": "code",
   "execution_count": null,
   "metadata": {
    "id": "382b3ed8-5bc9-4dcd-8ad7-c352be284b46",
    "tags": []
   },
   "outputs": [],
   "source": [
    "res = pd.concat([pd.DataFrame(df) for df in scores])\n",
    "res[\"feature\"] = feature"
   ]
  },
  {
   "cell_type": "code",
   "execution_count": null,
   "metadata": {
    "id": "49885a1e-acc7-462a-8578-5ebbfadb578b",
    "tags": []
   },
   "outputs": [],
   "source": [
    "res.groupby(\"feature\").agg([\"mean\", calc_ci])"
   ]
  },
  {
   "cell_type": "code",
   "execution_count": null,
   "metadata": {
    "id": "1b4c9116-ee0f-47fa-b88e-7a5088142d34",
    "tags": []
   },
   "outputs": [],
   "source": [
    "cif_tl.shape"
   ]
  },
  {
   "cell_type": "code",
   "execution_count": null,
   "metadata": {
    "id": "c565751e-cfec-413f-9021-0b39845de895",
    "tags": []
   },
   "outputs": [],
   "source": [
    "cifs.shape"
   ]
  },
  {
   "cell_type": "code",
   "execution_count": null,
   "metadata": {
    "id": "746ff426-dab8-4bec-877c-5680b6f9cb4c",
    "tags": []
   },
   "outputs": [],
   "source": [
    "cstat = c_stat(\n",
    "            cifs[:, :181, :],\n",
    "            spain_data.iloc[indices][\"OBS_TIME_6\"].values,\n",
    "            spain_data.iloc[indices][\"EVENT_6\"].values,\n",
    "            labtrans.cuts[:181],\n",
    "            suffix=\"test_spain_tl_ks\",\n",
    "        )\n",
    "\n",
    "cstat.update(c_stat(\n",
    "            cifs_non_tl[:, :181, :],\n",
    "            spain_data.iloc[indices][\"OBS_TIME_6\"].values,\n",
    "            spain_data.iloc[indices][\"EVENT_6\"].values,\n",
    "            labtrans.cuts[:181],\n",
    "            suffix=\"test_spain_non_tl_ks\"))"
   ]
  },
  {
   "cell_type": "code",
   "execution_count": null,
   "metadata": {
    "id": "bcae0d59-1018-40f2-b9d7-016c41d8ae34",
    "tags": []
   },
   "outputs": [],
   "source": [
    "cstat"
   ]
  },
  {
   "cell_type": "code",
   "execution_count": null,
   "metadata": {
    "id": "8ed19a3d-a8ff-4fc5-896d-469c44f6370b",
    "tags": []
   },
   "outputs": [],
   "source": [
    "cifs.shape"
   ]
  },
  {
   "cell_type": "code",
   "execution_count": null,
   "metadata": {
    "id": "64daf225-564c-42b0-ac1d-d6e324fb0446",
    "tags": []
   },
   "outputs": [],
   "source": [
    "cifs[0].T.shape"
   ]
  },
  {
   "cell_type": "code",
   "execution_count": null,
   "metadata": {
    "id": "8aa064df-c304-44c2-b10a-10e811e6dcea",
    "tags": []
   },
   "outputs": [],
   "source": [
    "np.array([cifs[0].T, cifs[1].T], ).shape"
   ]
  },
  {
   "cell_type": "markdown",
   "metadata": {
    "id": "56ab8df0-fc89-4bc4-a09f-208efe2701b3"
   },
   "source": [
    "## Calibration"
   ]
  },
  {
   "cell_type": "code",
   "execution_count": null,
   "metadata": {
    "id": "908233b7-28e1-41e7-8e49-983bfa3df131",
    "tags": []
   },
   "outputs": [],
   "source": [
    "cif_df = pd.DataFrame(\n",
    "    {\n",
    "        \"cif\": cif_full[0][181],\n",
    "        \"event\": spain_data[\"EVENT_6\"],\n",
    "        \"obs_time\": spain_data[\"OBS_TIME_6\"],\n",
    "        # \"event\": spain_data[\"EVENT\"],\n",
    "        # \"obs_time\": spain_data[\"OBS_TIME\"],\n",
    "        \"KS\": spain_data[\"KS\"]\n",
    "    }\n",
    ")"
   ]
  },
  {
   "cell_type": "code",
   "execution_count": null,
   "metadata": {
    "id": "2da9d4e0-cf37-4916-b88c-2ad479a62653",
    "tags": []
   },
   "outputs": [],
   "source": [
    "from utils import bootstrap_prevalence_vte\n",
    "def get_pair_counts_and_vte(df, ks_condition, cif_condition, alpha=0.05, time_of_interest=180.0):\n",
    "    filtered_df = df[ks_condition & cif_condition]\n",
    "    pair_count = len(filtered_df)\n",
    "    vte_estimates = bootstrap_prevalence_vte(filtered_df[\"obs_time\"],\n",
    "                                             filtered_df[\"event\"],\n",
    "                                             n_bootstrap=2000,\n",
    "                                             time_of_interest=time_of_interest)\n",
    "    lower = np.percentile(vte_estimates, 100 * (alpha / 2))\n",
    "    upper = np.percentile(vte_estimates, 100 * (1 - alpha / 2))\n",
    "    mean = np.mean(vte_estimates)\n",
    "    return pair_count, round(mean, 2), round(lower, 2), round(upper, 2), vte_estimates\n"
   ]
  },
  {
   "cell_type": "code",
   "execution_count": null,
   "metadata": {
    "id": "e4fdb53e-af16-4dc4-9c8a-d43a96158f6d",
    "tags": []
   },
   "outputs": [],
   "source": [
    "int_risk_ppv=.09\n",
    "high_risk_condition = (cif_df.KS >= 2)\n",
    "low_risk_condition = (cif_df.KS < 2)\n",
    "high_cif_condition = (cif_df.cif >= int_risk_ppv)\n",
    "low_cif_condition = (cif_df.cif < int_risk_ppv)\n",
    "\n",
    "(concordant_pairs_high_risk,\n",
    " concordant_high_risk_vte,\n",
    " concordant_high_risk_vte_lower,\n",
    " concordant_high_risk_vte_upper) = get_pair_counts_and_vte(cif_df, high_risk_condition, high_cif_condition)\n",
    "\n",
    "(discordant_pairs_high_risk,\n",
    " discordant_high_risk_vte,\n",
    " discordant_high_risk_vte_lower,\n",
    " discordant_high_risk_vte_upper) = get_pair_counts_and_vte(cif_df, low_risk_condition, high_cif_condition)\n",
    "\n",
    "(concordant_pairs_low_risk,\n",
    " concordant_low_risk_vte,\n",
    " concordant_low_risk_vte_lower,\n",
    " concordant_low_risk_vte_upper) = get_pair_counts_and_vte(cif_df, low_risk_condition, low_cif_condition)\n",
    "\n",
    "(discordant_pairs_low_risk,\n",
    " discordant_low_risk_vte,\n",
    " discordant_low_risk_vte_lower,\n",
    " discordant_low_risk_vte_upper) = get_pair_counts_and_vte(cif_df, high_risk_condition, low_cif_condition)\n"
   ]
  },
  {
   "cell_type": "code",
   "execution_count": null,
   "metadata": {
    "id": "266d7324-c965-41fd-bd95-819973a4d817",
    "tags": []
   },
   "outputs": [],
   "source": [
    "data = {\n",
    "    \"Concordant Pairs\": {\n",
    "        \"KS\": [\"High Risk\", \"Low Risk\"],\n",
    "        \"DeepVTE\": [\"High Risk\", \"Low Risk\"],\n",
    "        \"No\": [\n",
    "           concordant_pairs_high_risk,\n",
    "           concordant_pairs_low_risk,\n",
    "        ],\n",
    "        \"Incidence VTE\": [concordant_high_risk_vte, concordant_low_risk_vte],\n",
    "        \"CI\": [f\"({concordant_high_risk_vte_lower}, {concordant_high_risk_vte_upper})\",\n",
    "               f\"({concordant_low_risk_vte_lower}, {concordant_low_risk_vte_upper})\"]\n",
    "    },\n",
    "    \"Discordant Pairs\": {\n",
    "        \"KS\": [\"Low Risk\", \"High Risk\"],\n",
    "        \"DeepVTE\": [\"High Risk\", \"Low Risk\"],\n",
    "        \"No\": [\n",
    "            discordant_pairs_high_risk,\n",
    "            discordant_pairs_low_risk,\n",
    "        ],\n",
    "        \"Incidence VTE\": [discordant_high_risk_vte, discordant_low_risk_vte],\n",
    "        \"CI\": [f\"({discordant_high_risk_vte_lower}, {discordant_high_risk_vte_upper})\",\n",
    "               f\"({discordant_low_risk_vte_lower}, {discordant_low_risk_vte_upper})\"]\n",
    "    },\n",
    "}"
   ]
  },
  {
   "cell_type": "code",
   "execution_count": null,
   "metadata": {
    "id": "5eb67427-27e1-42cc-8100-2b2c5c395d00",
    "tags": []
   },
   "outputs": [],
   "source": [
    "pd.concat([pd.DataFrame.from_dict(data[\"Concordant Pairs\"]), pd.DataFrame.from_dict(data[\"Discordant Pairs\"])])"
   ]
  },
  {
   "cell_type": "code",
   "execution_count": null,
   "metadata": {
    "id": "47e1fd73-df22-4d97-9c3d-f7e2fcad389b",
    "tags": []
   },
   "outputs": [],
   "source": [
    "pd.concat([pd.DataFrame.from_dict(data[\"Concordant Pairs\"]),\n",
    "           pd.DataFrame.from_dict(data[\"Discordant Pairs\"])]).to_csv(\"classifiction_table_oncothromb.csv\")"
   ]
  },
  {
   "cell_type": "code",
   "execution_count": null,
   "metadata": {
    "id": "293125ff-97a6-41d7-83b8-fe50503bcff3",
    "tags": []
   },
   "outputs": [],
   "source": [
    "plot_grouped_risks(cif_full, y[0], y[1],\n",
    "                   time_of_interest=181,\n",
    "                   save=True,\n",
    "                   name=\"External Cohort B Validation Set\")"
   ]
  },
  {
   "cell_type": "code",
   "execution_count": null,
   "metadata": {
    "id": "7f72e151-e40b-4dd8-a2bc-63560736f9e6",
    "tags": []
   },
   "outputs": [],
   "source": [
    "plot_calibration(cif_df.cif_non_tl, \n",
    "                 events=np.array(cif_df.event_6),\n",
    "                 durations=np.array(cif_df.obs_time_6),\n",
    "                 feature=\"ext_spain\",\n",
    "                 name=\"ONCOTHROMB\",\n",
    "                 save=True)"
   ]
  },
  {
   "cell_type": "code",
   "execution_count": null,
   "metadata": {
    "id": "06a0c1b0-a52b-4be7-8ef7-c21d225458b2",
    "tags": []
   },
   "outputs": [],
   "source": [
    "a,b,c,_=bootstrap_ci(cif_df, concordance_index, \"event_6\", \"cif_tl\", \"obs_time_6\")\n",
    "\n",
    "print(f\"{c} ({a}, {b})\")"
   ]
  },
  {
   "cell_type": "code",
   "execution_count": null,
   "metadata": {
    "id": "6fd76f35-82ef-4ba2-935c-e45785090fa6",
    "tags": []
   },
   "outputs": [],
   "source": [
    "a,b,c, _ = bootstrap_ci(cif_df, concordance_index, \"event_6\", \"KS\", \"obs_time_6\")\n",
    "print(f\"{c} ({a}, {b})\")"
   ]
  },
  {
   "cell_type": "code",
   "execution_count": null,
   "metadata": {
    "id": "c56acd89-633d-4ca8-a08c-ea585d093406",
    "tags": []
   },
   "outputs": [],
   "source": [
    "a,b,c,_ = bootstrap_ci(cif_df, concordance_index, \"event_6\", \"cif_non_tl\",\"obs_time_6\")\n",
    "print(f\"{c} ({a}, {b})\")"
   ]
  },
  {
   "cell_type": "code",
   "execution_count": null,
   "metadata": {
    "id": "1ccd9cf3-d475-454f-8a72-4c6db781bddf",
    "tags": []
   },
   "outputs": [],
   "source": [
    "plot_roc(cif_df, \"cif_non_tl\", \"event_6\", \"df\", \"df\")"
   ]
  },
  {
   "cell_type": "code",
   "execution_count": null,
   "metadata": {
    "id": "88667cf3-0a1c-4559-ad2f-922e046aba7f",
    "tags": []
   },
   "outputs": [],
   "source": [
    "plot_roc(cif_df, \"cif_tl\", \"event_6\", \"df\", \"df\")"
   ]
  },
  {
   "cell_type": "code",
   "execution_count": null,
   "metadata": {
    "id": "abcd7154-3783-4f83-bd58-b29eea147c9b",
    "tags": []
   },
   "outputs": [],
   "source": [
    "from sklearn.calibration import calibration_curve\n",
    "fraction_of_positives, mean_predicted_value = calibration_curve(cif_df.event_6==1, cif_df.cif_non_tl, n_bins=5, strategy=\"quantile\")\n",
    "\n",
    "# Plot the calibration curve\n",
    "plt.plot(mean_predicted_value, fraction_of_positives, 's-', label='Model')\n",
    "plt.plot([0, .25], [0, .25], 'k--', label='Perfectly calibrated')\n",
    "plt.xlabel('Mean predicted value')\n",
    "plt.ylabel('Fraction of positives')\n",
    "plt.legend()\n",
    "plt.show()"
   ]
  },
  {
   "cell_type": "code",
   "execution_count": null,
   "metadata": {
    "id": "b7266103-cfc4-478c-813e-15be21bc9430",
    "tags": []
   },
   "outputs": [],
   "source": [
    "from sklearn.calibration import calibration_curve\n",
    "fraction_of_positives, mean_predicted_value = calibration_curve(cif_df.event_6==1, cif_df.cif_tl, n_bins=5, strategy=\"quantile\")\n",
    "\n",
    "# Plot the calibration curve\n",
    "plt.plot(mean_predicted_value, fraction_of_positives, 's-', label='Model')\n",
    "plt.plot([0, .25], [0, .25], 'k--', label='Perfectly calibrated')\n",
    "plt.xlabel('Mean predicted value')\n",
    "plt.ylabel('Fraction of positives')\n",
    "plt.legend()\n",
    "plt.show()"
   ]
  },
  {
   "cell_type": "code",
   "execution_count": null,
   "metadata": {
    "id": "9b533096-c186-42f1-935b-81c7f9e9899c",
    "tags": []
   },
   "outputs": [],
   "source": [
    "plot_calibration(cif_df.cif_non_tl, \n",
    "                 events=np.array(cif_df.event_6),\n",
    "                 durations=np.array(cif_df.obs_time_6),\n",
    "                 feature=\"ext_spain\",\n",
    "                 name=\"ONCOTHROMB - Without Transfer Learning\",\n",
    "                 save=True)"
   ]
  },
  {
   "cell_type": "code",
   "execution_count": null,
   "metadata": {
    "id": "bbf19d64-0434-40dc-b456-e053204b3de2",
    "tags": []
   },
   "outputs": [],
   "source": [
    "plot_calibration(cif_df.cif_tl,\n",
    "                 events=np.array(cif_df.event_6), \n",
    "                 durations=np.array(cif_df.obs_time_6),\n",
    "                 feature=\"ext_spain\",\n",
    "                 name=\"ONCOTHROMB - With Transfer Learning\",\n",
    "                 save=True)"
   ]
  },
  {
   "cell_type": "code",
   "execution_count": null,
   "metadata": {
    "id": "01c316fb-ecdb-437d-9c7b-df82b5a0f341"
   },
   "outputs": [],
   "source": []
  }
 ],
 "metadata": {
  "kernelspec": {
   "display_name": "Python 3.9 + GPU",
   "language": "python",
   "name": "python3"
  },
  "language_info": {
   "codemirror_mode": {
    "name": "ipython",
    "version": 3
   },
   "file_extension": ".py",
   "mimetype": "text/x-python",
   "name": "python",
   "nbconvert_exporter": "python",
   "pygments_lexer": "ipython3",
   "version": "3.9.12"
  },
  "vscode": {
   "interpreter": {
    "hash": "4e9059d207651285723712bc3179927a0ca9672cc7b9e153909fbf37e2e2c7cf"
   }
  }
 },
 "nbformat": 4,
 "nbformat_minor": 4
}
